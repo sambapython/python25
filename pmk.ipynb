{
 "metadata": {
  "name": "",
  "signature": "sha256:434157b2d906b7738614e38fdaaeeb3acf3e490226c2b3d9767a432354ff23ff"
 },
 "nbformat": 3,
 "nbformat_minor": 0,
 "worksheets": [
  {
   "cells": [
    {
     "cell_type": "code",
     "collapsed": false,
     "input": [
      "import paramiko as pmk"
     ],
     "language": "python",
     "metadata": {},
     "outputs": [],
     "prompt_number": 1
    },
    {
     "cell_type": "code",
     "collapsed": false,
     "input": [
      "import paramiko as pmk\n",
      "ssh=pmk.SSHClient()\n",
      "ssh.set_missing_host_key_policy(pmk.AutoAddPolicy())\n",
      "ssh.connect(\"localhost\",username=\"samba-python\",password=\"samba\")\n",
      "ssh.exec_command(\"mkdir mydear\")"
     ],
     "language": "python",
     "metadata": {},
     "outputs": [
      {
       "metadata": {},
       "output_type": "pyout",
       "prompt_number": 3,
       "text": [
        "(<paramiko.ChannelFile from <paramiko.Channel 0 (closed) -> <paramiko.Transport at 0x459819d0L (cipher aes128-ctr, 128 bits) (active; 0 open channel(s))>>>,\n",
        " <paramiko.ChannelFile from <paramiko.Channel 0 (closed) -> <paramiko.Transport at 0x459819d0L (cipher aes128-ctr, 128 bits) (active; 0 open channel(s))>>>,\n",
        " <paramiko.ChannelFile from <paramiko.Channel 0 (closed) -> <paramiko.Transport at 0x459819d0L (cipher aes128-ctr, 128 bits) (active; 0 open channel(s))>>>)"
       ]
      }
     ],
     "prompt_number": 3
    },
    {
     "cell_type": "code",
     "collapsed": false,
     "input": [
      "ssh.exec_command(\"rm -r mydear\")"
     ],
     "language": "python",
     "metadata": {},
     "outputs": [
      {
       "metadata": {},
       "output_type": "pyout",
       "prompt_number": 6,
       "text": [
        "(<paramiko.ChannelFile from <paramiko.Channel 1 (closed) -> <paramiko.Transport at 0x459819d0L (cipher aes128-ctr, 128 bits) (active; 0 open channel(s))>>>,\n",
        " <paramiko.ChannelFile from <paramiko.Channel 1 (closed) -> <paramiko.Transport at 0x459819d0L (cipher aes128-ctr, 128 bits) (active; 0 open channel(s))>>>,\n",
        " <paramiko.ChannelFile from <paramiko.Channel 1 (closed) -> <paramiko.Transport at 0x459819d0L (cipher aes128-ctr, 128 bits) (active; 0 open channel(s))>>>)"
       ]
      }
     ],
     "prompt_number": 6
    },
    {
     "cell_type": "code",
     "collapsed": false,
     "input": [
      "stdin,stdout,stderr = ssh.exec_command(\"ps -aux\")"
     ],
     "language": "python",
     "metadata": {},
     "outputs": [],
     "prompt_number": 7
    },
    {
     "cell_type": "code",
     "collapsed": false,
     "input": [
      "err = stderr.read()\n",
      "if err:\n",
      "    print \"comand not executed properly:\",err\n",
      "else:\n",
      "    process = stdout.read()\n",
      "    print process"
     ],
     "language": "python",
     "metadata": {},
     "outputs": [
      {
       "output_type": "stream",
       "stream": "stdout",
       "text": [
        "USER       PID %CPU %MEM    VSZ   RSS TTY      STAT START   TIME COMMAND\n",
        "root         1  0.0  0.1 119628  5720 ?        Ss   10:22   0:03 /sbin/init splash\n",
        "root         2  0.0  0.0      0     0 ?        S    10:22   0:00 [kthreadd]\n",
        "root         3  0.0  0.0      0     0 ?        S    10:22   0:00 [ksoftirqd/0]\n",
        "root         5  0.0  0.0      0     0 ?        S<   10:22   0:00 [kworker/0:0H]\n",
        "root         7  0.0  0.0      0     0 ?        S    10:22   0:01 [rcu_sched]\n",
        "root         8  0.0  0.0      0     0 ?        S    10:22   0:00 [rcu_bh]\n",
        "root         9  0.0  0.0      0     0 ?        S    10:22   0:00 [migration/0]\n",
        "root        10  0.0  0.0      0     0 ?        S    10:22   0:00 [watchdog/0]\n",
        "root        11  0.0  0.0      0     0 ?        S    10:22   0:00 [kdevtmpfs]\n",
        "root        12  0.0  0.0      0     0 ?        S<   10:22   0:00 [netns]\n",
        "root        13  0.0  0.0      0     0 ?        S<   10:22   0:00 [perf]\n",
        "root        14  0.0  0.0      0     0 ?        S    10:22   0:00 [khungtaskd]\n",
        "root        15  0.0  0.0      0     0 ?        S<   10:22   0:00 [writeback]\n",
        "root        16  0.0  0.0      0     0 ?        SN   10:22   0:00 [ksmd]\n",
        "root        17  0.0  0.0      0     0 ?        SN   10:22   0:00 [khugepaged]\n",
        "root        18  0.0  0.0      0     0 ?        S<   10:22   0:00 [crypto]\n",
        "root        19  0.0  0.0      0     0 ?        S<   10:22   0:00 [kintegrityd]\n",
        "root        20  0.0  0.0      0     0 ?        S<   10:22   0:00 [bioset]\n",
        "root        21  0.0  0.0      0     0 ?        S<   10:22   0:00 [kblockd]\n",
        "root        22  0.0  0.0      0     0 ?        S<   10:22   0:00 [ata_sff]\n",
        "root        23  0.0  0.0      0     0 ?        S<   10:22   0:00 [md]\n",
        "root        24  0.0  0.0      0     0 ?        S<   10:22   0:00 [devfreq_wq]\n",
        "root        28  0.0  0.0      0     0 ?        S    10:22   0:00 [kswapd0]\n",
        "root        29  0.0  0.0      0     0 ?        S<   10:22   0:00 [vmstat]\n",
        "root        30  0.0  0.0      0     0 ?        S    10:22   0:00 [fsnotify_mark]\n",
        "root        31  0.0  0.0      0     0 ?        S    10:22   0:00 [ecryptfs-kthrea]\n",
        "root        47  0.0  0.0      0     0 ?        S<   10:22   0:00 [kthrotld]\n",
        "root        48  0.0  0.0      0     0 ?        S<   10:22   0:00 [acpi_thermal_pm]\n",
        "root        49  0.0  0.0      0     0 ?        S<   10:22   0:00 [bioset]\n",
        "root        50  0.0  0.0      0     0 ?        S<   10:22   0:00 [bioset]\n",
        "root        51  0.0  0.0      0     0 ?        S<   10:22   0:00 [bioset]\n",
        "root        52  0.0  0.0      0     0 ?        S<   10:22   0:00 [bioset]\n",
        "root        53  0.0  0.0      0     0 ?        S<   10:22   0:00 [bioset]\n",
        "root        54  0.0  0.0      0     0 ?        S<   10:22   0:00 [bioset]\n",
        "root        55  0.0  0.0      0     0 ?        S<   10:22   0:00 [bioset]\n",
        "root        56  0.0  0.0      0     0 ?        S<   10:22   0:00 [bioset]\n",
        "root        57  0.0  0.0      0     0 ?        S<   10:22   0:00 [bioset]\n",
        "root        58  0.0  0.0      0     0 ?        S<   10:22   0:00 [bioset]\n",
        "root        59  0.0  0.0      0     0 ?        S<   10:22   0:00 [bioset]\n",
        "root        60  0.0  0.0      0     0 ?        S<   10:22   0:00 [bioset]\n",
        "root        61  0.0  0.0      0     0 ?        S<   10:22   0:00 [bioset]\n",
        "root        62  0.0  0.0      0     0 ?        S<   10:22   0:00 [bioset]\n",
        "root        63  0.0  0.0      0     0 ?        S<   10:22   0:00 [bioset]\n",
        "root        64  0.0  0.0      0     0 ?        S<   10:22   0:00 [bioset]\n",
        "root        65  0.0  0.0      0     0 ?        S<   10:22   0:00 [bioset]\n",
        "root        66  0.0  0.0      0     0 ?        S<   10:22   0:00 [bioset]\n",
        "root        67  0.0  0.0      0     0 ?        S<   10:22   0:00 [bioset]\n",
        "root        68  0.0  0.0      0     0 ?        S<   10:22   0:00 [bioset]\n",
        "root        69  0.0  0.0      0     0 ?        S<   10:22   0:00 [bioset]\n",
        "root        70  0.0  0.0      0     0 ?        S<   10:22   0:00 [bioset]\n",
        "root        71  0.0  0.0      0     0 ?        S<   10:22   0:00 [bioset]\n",
        "root        72  0.0  0.0      0     0 ?        S<   10:22   0:00 [bioset]\n",
        "root        73  0.0  0.0      0     0 ?        S    10:22   0:00 [scsi_eh_0]\n",
        "root        74  0.0  0.0      0     0 ?        S<   10:22   0:00 [scsi_tmf_0]\n",
        "root        75  0.0  0.0      0     0 ?        S    10:22   0:00 [scsi_eh_1]\n",
        "root        76  0.0  0.0      0     0 ?        S<   10:22   0:00 [scsi_tmf_1]\n",
        "root        82  0.0  0.0      0     0 ?        S<   10:22   0:00 [ipv6_addrconf]\n",
        "root        95  0.0  0.0      0     0 ?        S<   10:22   0:00 [deferwq]\n",
        "root        96  0.0  0.0      0     0 ?        S<   10:22   0:00 [charger_manager]\n",
        "root        97  0.0  0.0      0     0 ?        S<   10:22   0:00 [bioset]\n",
        "root       144  0.0  0.0      0     0 ?        S<   10:22   0:00 [kpsmoused]\n",
        "root       147  0.0  0.0      0     0 ?        S<   10:22   0:00 [kworker/0:1H]\n",
        "root       148  0.0  0.0      0     0 ?        S    10:22   0:00 [scsi_eh_2]\n",
        "root       149  0.0  0.0      0     0 ?        S<   10:22   0:00 [scsi_tmf_2]\n",
        "root       150  0.0  0.0      0     0 ?        S<   10:22   0:00 [bioset]\n",
        "root       231  0.0  0.0      0     0 ?        S<   10:22   0:00 [bioset]\n",
        "root       265  0.0  0.0      0     0 ?        S    10:22   0:00 [jbd2/sda1-8]\n",
        "root       266  0.0  0.0      0     0 ?        S<   10:22   0:00 [ext4-rsv-conver]\n",
        "root       308  0.0  0.0  32244  3600 ?        Ss   10:22   0:00 /lib/systemd/systemd-journald\n",
        "root       321  0.0  0.0      0     0 ?        S    10:22   0:00 [kauditd]\n",
        "root       338  0.0  0.0  94772  1480 ?        Ss   10:22   0:00 /sbin/lvmetad -f\n",
        "root       353  0.0  0.1  45452  4608 ?        Ss   10:22   0:00 /lib/systemd/systemd-udevd\n",
        "root       517  0.0  0.0      0     0 ?        S<   10:22   0:00 [iprt-VBoxWQueue]\n",
        "root       627  0.0  0.0      0     0 ?        S<   10:22   0:00 [ttm_swap]\n",
        "root       725  0.0  0.0  29008  2968 ?        Ss   10:22   0:00 /usr/sbin/cron -f\n",
        "root       727  0.0  0.2 291280  8340 ?        Ssl  10:22   0:00 /usr/lib/accountsservice/accounts-daemon\n",
        "root       734  0.0  0.0  29880  1664 ?        Ss   10:22   0:00 /sbin/cgmanager -m name=systemd\n",
        "root       744  0.0  0.0  28624  3156 ?        Ss   10:22   0:00 /lib/systemd/systemd-logind\n",
        "root       757  0.0  0.0   4400  1328 ?        Ss   10:22   0:00 /usr/sbin/acpid\n",
        "syslog     760  0.0  0.0 256396  3400 ?        Ssl  10:22   0:00 /usr/sbin/rsyslogd -n\n",
        "message+   774  0.0  0.1  44064  4556 ?        Ss   10:22   0:01 /usr/bin/dbus-daemon --system --address=systemd: --nofork --nopidfile --systemd-activation\n",
        "root       804  0.0  0.4 381704 16564 ?        Ssl  10:22   0:00 /usr/sbin/NetworkManager --no-daemon\n",
        "root       807  0.0  0.2 337324  8680 ?        Ssl  10:22   0:00 /usr/sbin/ModemManager\n",
        "avahi      810  0.0  0.0  44788  3124 ?        Ss   10:22   0:00 avahi-daemon: running [samba.local]\n",
        "avahi      846  0.0  0.0  44788   344 ?        S    10:23   0:00 avahi-daemon: chroot helper\n",
        "root       888  0.0  0.2 294448 10316 ?        Ssl  10:23   0:00 /usr/lib/policykit-1/polkitd --no-debug\n",
        "root       946  0.0  0.0 256748  3348 ?        Sl   10:23   0:01 /usr/sbin/VBoxService\n",
        "root       954  0.0  0.1 594928  6576 ?        Ssl  10:23   0:00 /usr/sbin/console-kit-daemon --no-daemon\n",
        "root      1049  0.0  0.1  65520  5672 ?        Ss   10:23   0:00 /usr/sbin/sshd -D\n",
        "postgres  1079  0.0  0.5 294660 24120 ?        S    10:23   0:00 /usr/lib/postgresql/9.5/bin/postgres -D /var/lib/postgresql/9.5/main -c config_file=/etc/postgresql/9.5/main/postgresql.conf\n",
        "root      1092  0.0  0.0  16120  3696 ?        S    10:23   0:00 /sbin/dhclient -d -q -sf /usr/lib/NetworkManager/nm-dhcp-helper -pf /var/run/dhclient-enp0s3.pid -lf /var/lib/NetworkManager/dhclient-9b016959-6891-3fa3-9c00-ebe5572588db-enp0s3.lease -cf /var/lib/NetworkManager/dhclient-enp0s3.conf enp0s3\n",
        "nobody    1104  0.0  0.1  52868  4236 ?        S    10:23   0:00 /usr/sbin/dnsmasq --no-resolv --keep-in-foreground --no-hosts --bind-interfaces --pid-file=/var/run/NetworkManager/dnsmasq.pid --listen-address=127.0.1.1 --cache-size=0 --conf-file=/dev/null --proxy-dnssec --enable-dbus=org.freedesktop.NetworkManager.dnsmasq --conf-dir=/etc/NetworkManager/dnsmasq.d\n",
        "root      1109  0.0  0.0 125100  1452 ?        Ss   10:23   0:00 nginx: master process /usr/sbin/nginx -g daemon on; master_process on;\n",
        "www-data  1110  0.0  0.0 125424  3276 ?        S    10:23   0:00 nginx: worker process\n",
        "ntp       1386  0.0  0.1 112096  5316 ?        Ss   10:23   0:00 /usr/sbin/ntpd -p /var/run/ntpd.pid -g -u 108:114\n",
        "root      1465  0.0  0.0  15940  1800 tty1     Ss+  10:23   0:00 /sbin/agetty --noclear tty1 linux\n",
        "root      1467  0.0  0.2 141348  8440 ?        Ss   10:23   0:00 /usr/sbin/mdm --nodaemon\n",
        "root      1655  0.0  0.2 193732  9056 ?        S    10:23   0:00 /usr/sbin/mdm --nodaemon\n",
        "root      1663  3.5  2.4 359260 100888 tty7    Ss+  10:23   2:51 /usr/lib/xorg/Xorg :0 -audit 0 -auth /var/lib/mdm/:0.Xauth -nolisten tcp vt7\n",
        "root      1674  0.0  0.1  71568  4972 ?        Ss   10:23   0:00 /usr/sbin/apache2 -k start\n",
        "postgres  1780  0.0  0.0 294660  3928 ?        Ss   10:23   0:00 postgres: checkpointer process   \n",
        "postgres  1781  0.0  0.1 294660  5556 ?        Ss   10:23   0:00 postgres: writer process   \n",
        "postgres  1782  0.0  0.0 294660  3928 ?        Ss   10:23   0:00 postgres: wal writer process   \n",
        "postgres  1783  0.0  0.1 294956  4948 ?        Ss   10:23   0:00 postgres: autovacuum launcher process   \n",
        "postgres  1784  0.0  0.0 149644  3172 ?        Ss   10:23   0:00 postgres: stats collector process   \n",
        "mdm       1833  0.0  0.0  43732  2464 ?        S    10:23   0:00 dbus-launch --autolaunch=5ab3c275b7304ed3b8aeef9ffcc37eb4 --binary-syntax --close-stderr\n",
        "mdm       1844  0.0  0.0  42768  2532 ?        Ss   10:23   0:00 /usr/bin/dbus-daemon --fork --print-pid 5 --print-address 7 --session\n",
        "samba-p+  1896  0.0  0.1  45248  4716 ?        Ss   10:23   0:00 /lib/systemd/systemd --user\n",
        "samba-p+  1899  0.0  0.0  97896  2132 ?        S    10:23   0:00 (sd-pam)\n",
        "samba-p+  1904  0.0  0.1 278952  7588 ?        Sl   10:23   0:00 /usr/bin/gnome-keyring-daemon --daemonize --login\n",
        "samba-p+  1915  0.0  0.5 424392 22972 ?        Ssl  10:23   0:00 cinnamon-session --session cinnamon\n",
        "samba-p+  1992  0.0  0.0  49516   320 ?        S    10:23   0:00 /usr/bin/VBoxClient --clipboard\n",
        "samba-p+  1993  0.0  0.1 117776  4248 ?        Sl   10:23   0:00 /usr/bin/VBoxClient --clipboard\n",
        "samba-p+  2002  0.0  0.0  49516   320 ?        S    10:23   0:00 /usr/bin/VBoxClient --display\n",
        "samba-p+  2003  0.0  0.0  49652  3384 ?        S    10:23   0:00 /usr/bin/VBoxClient --display\n",
        "samba-p+  2007  0.0  0.0  49516   320 ?        S    10:23   0:00 /usr/bin/VBoxClient --seamless\n",
        "samba-p+  2008  0.0  0.0 115700  2072 ?        Sl   10:23   0:00 /usr/bin/VBoxClient --seamless\n",
        "samba-p+  2011  0.0  0.0  49516   320 ?        S    10:23   0:00 /usr/bin/VBoxClient --draganddrop\n",
        "samba-p+  2012  0.1  0.0 116216  2076 ?        Sl   10:23   0:07 /usr/bin/VBoxClient --draganddrop\n",
        "samba-p+  2024  0.0  0.0  11140   316 ?        Ss   10:23   0:00 /usr/bin/ssh-agent /usr/bin/dbus-launch --exit-with-session /usr/bin/im-launch cinnamon-session-cinnamon\n",
        "samba-p+  2027  0.0  0.0  43736  2408 ?        S    10:23   0:00 /usr/bin/dbus-launch --exit-with-session /usr/bin/im-launch cinnamon-session-cinnamon\n",
        "samba-p+  2028  0.0  0.0  43360  3732 ?        Ss   10:23   0:00 /usr/bin/dbus-daemon --fork --print-pid 6 --print-address 9 --session\n",
        "samba-p+  2040  0.0  0.1 274524  6332 ?        Sl   10:23   0:00 /usr/lib/gvfs/gvfsd\n",
        "samba-p+  2045  0.0  0.2 419960  9272 ?        Sl   10:23   0:00 /usr/lib/gvfs/gvfsd-fuse /run/user/1000/gvfs -f -o big_writes\n",
        "samba-p+  2055  0.0  0.2 353836  8120 ?        Sl   10:23   0:00 /usr/lib/at-spi2-core/at-spi-bus-launcher\n",
        "samba-p+  2060  0.0  0.0  42900  4004 ?        S    10:23   0:00 /usr/bin/dbus-daemon --config-file=/etc/at-spi2/accessibility.conf --nofork --print-address 3\n",
        "samba-p+  2062  0.0  0.1 206876  6308 ?        Sl   10:23   0:00 /usr/lib/at-spi2-core/at-spi2-registryd --use-gnome-session\n",
        "samba-p+  2067  0.0  1.1 1137548 47236 ?       Sl   10:23   0:01 /usr/lib/x86_64-linux-gnu/cinnamon-settings-daemon/cinnamon-settings-daemon\n",
        "samba-p+  2089  0.0  0.2 435032 11716 ?        S<l  10:23   0:00 /usr/bin/pulseaudio --start --log-target=syslog\n",
        "rtkit     2090  0.0  0.0 183544  3156 ?        SNsl 10:23   0:00 /usr/lib/rtkit/rtkit-daemon\n",
        "root      2114  0.0  0.2 347140  9840 ?        Ssl  10:23   0:00 /usr/lib/upower/upowerd\n",
        "samba-p+  2324  0.0  0.1 178664  4700 ?        Sl   10:23   0:00 /usr/lib/dconf/dconf-service\n",
        "samba-p+  2328  0.0  0.2 296380  9820 ?        Sl   10:23   0:00 /usr/lib/gvfs/gvfs-udisks2-volume-monitor\n",
        "root      2331  0.0  0.2 383012 10164 ?        Ssl  10:23   0:00 /usr/lib/udisks2/udisksd --no-debug\n",
        "samba-p+  2340  0.0  0.2 403604  9148 ?        Sl   10:23   0:00 /usr/lib/gvfs/gvfs-afc-volume-monitor\n",
        "samba-p+  2346  0.0  0.1 259524  4484 ?        Sl   10:23   0:00 /usr/lib/gvfs/gvfs-mtp-volume-monitor\n",
        "samba-p+  2351  0.0  0.1 271720  5252 ?        Sl   10:23   0:00 /usr/lib/gvfs/gvfs-gphoto2-volume-monitor\n",
        "samba-p+  2356  0.0  0.1 257536  4360 ?        Sl   10:23   0:00 /usr/lib/gvfs/gvfs-goa-volume-monitor\n",
        "samba-p+  2360  0.0  0.7 187220 30320 ?        S    10:23   0:00 /usr/bin/python3 /usr/bin/cinnamon-launcher\n",
        "colord    2361  0.0  0.3 313512 12964 ?        Ssl  10:23   0:00 /usr/lib/colord/colord\n",
        "samba-p+  2367  0.0  0.3 501644 13776 ?        Sl   10:23   0:00 /usr/lib/x86_64-linux-gnu/cinnamon-settings-daemon/csd-printer\n",
        "samba-p+  2379 28.1  5.7 1369280 233732 ?      Sl   10:23  22:42 cinnamon --replace\n",
        "samba-p+  2385  0.0  0.5 330592 20336 ?        Sl   10:23   0:00 /usr/lib/policykit-1-gnome/polkit-gnome-authentication-agent-1\n",
        "samba-p+  2391  0.0  1.5 828512 64408 ?        Sl   10:23   0:04 nemo -n\n",
        "samba-p+  2392  0.0  0.8 531292 34224 ?        Sl   10:23   0:00 nm-applet\n",
        "samba-p+  2393  0.0  0.7 419908 31408 ?        Sl   10:23   0:00 /usr/bin/python3 /usr/bin/cinnamon-killer-daemon\n",
        "samba-p+  2423  0.0  0.1 185980  5608 ?        Sl   10:23   0:00 /usr/lib/gvfs/gvfsd-metadata\n",
        "samba-p+  2428  0.0  0.2 363668  8656 ?        Sl   10:23   0:00 /usr/lib/gvfs/gvfsd-trash --spawner :1.1 /org/gtk/gvfs/exec_spaw/0\n",
        "samba-p+  2437  0.0  1.1 662392 48092 ?        Sl   10:23   0:01 cinnamon-screensaver\n",
        "samba-p+  2491  0.0  0.9 488912 38164 ?        Sl   10:24   0:02 /usr/lib/gnome-terminal/gnome-terminal-server\n",
        "samba-p+  2496  0.0  0.2  30064 10420 ?        S    10:24   0:00 /usr/bin/python3 /usr/bin/mintupdate-launcher\n",
        "samba-p+  2497  0.0  0.1  22664  5448 pts/0    Ss   10:24   0:00 bash\n",
        "samba-p+  2500  0.0  0.0   4508   760 ?        S    10:24   0:00 sh -c /usr/lib/linuxmint/mintUpdate/mintUpdate.py\n",
        "samba-p+  2501  0.0  1.3 711520 56164 ?        Sl   10:24   0:00 /usr/bin/python3 /usr/lib/linuxmint/mintUpdate/mintUpdate.py\n",
        "samba-p+  2539  0.0  0.7 235980 30380 ?        Sl   10:24   0:00 /usr/bin/python3 /usr/share/system-config-printer/applet.py\n",
        "samba-p+  2544  0.4  1.4 902368 58060 ?        Ssl  10:24   0:21 /opt/sublime_text/sublime_text\n",
        "samba-p+  2555  0.0  0.4 119452 20144 ?        Sl   10:24   0:03 /opt/sublime_text/plugin_host 2544\n",
        "samba-p+  2574  0.0  1.0 296192 44224 pts/0    Sl+  10:24   0:02 /usr/bin/python /usr/bin/ipython notebook\n",
        "samba-p+  2602  0.0  0.2 399908 10940 ?        Sl   10:24   0:00 /usr/lib/gvfs/gvfsd-http --spawner :1.1 /org/gtk/gvfs/exec_spaw/1\n",
        "samba-p+  2608  1.2  3.8 907156 154184 ?       SLl  10:24   1:00 /opt/google/chrome/chrome http://localhost:8888/tree\n",
        "samba-p+  2614  0.0  0.0   7448   672 ?        S    10:24   0:00 cat\n",
        "samba-p+  2615  0.0  0.0   7448   772 ?        S    10:24   0:00 cat\n",
        "samba-p+  2618  0.0  1.2 370356 48704 ?        S    10:24   0:00 /opt/google/chrome/chrome --type=zygote --enable-crash-reporter=6c49b333-1549-4947-a9f0-86c9b84c5f3e,\n",
        "samba-p+  2619  0.0  0.1  26992  4848 ?        S    10:24   0:00 /opt/google/chrome/nacl_helper\n",
        "samba-p+  2622  0.0  0.2 370356 11704 ?        S    10:24   0:00 /opt/google/chrome/chrome --type=zygote --enable-crash-reporter=6c49b333-1549-4947-a9f0-86c9b84c5f3e,\n",
        "samba-p+  2625  0.0  0.1  61168  5332 ?        S    10:24   0:00 /usr/lib/x86_64-linux-gnu/gconf/gconfd-2\n",
        "samba-p+  2674  2.4  3.2 834020 131864 ?       Rl   10:24   1:55 /opt/google/chrome/chrome --type=renderer --enable-features=AutofillProfileCleanup<AutofillProfileCleanup,BlockSmallPluginContent<PluginPowerSaverTiny,*ExpectCTReporting<ExpectCTReporting,*OverrideYouTubeFlashEmbed<Override YouTube Flash emed,ParseHTMLOnMainThread<ParseHTMLOnMainThread,*PersistentHistograms<PersistentHistograms,*PointerEvent<PointerEvent,PreconnectMore<PreconnectMore,PreferHtmlOverPlugins<Html5ByDefault,SecurityChip<SecurityChip,SecurityWarningIconUpdate<SecurityWarningIconUpdate,SubresourceFilter<SubresourceFilter,*TranslateUI2016Q2<TranslateUI2016Q2 --disable-features=DocumentWriteEvaluator<DisallowFetchForDocWrittenScriptsInMainFrame,SSLPostQuantumExperiment<SSLPostQuantum --force-fieldtrials=*AppBannerTriggering/site-engagement-eager/*AutofillProfileCleanup/Enabled/CaptivePortalInterstitial/Enabled/*ChromeChannelStable/Enabled/*ChromeSuggestionsTuning/Default/*ClientSideDetectionModel/Model0/DataReductionProxyUseQuic/Enabled10_NoControl/DisallowFetchForDocWrittenScriptsInMainFrame/Control_20161208_Launch/EnforceCTForProblematicRoots/disabled/ExpectCTReporting/ExpectCTReportingDisabled/ExtensionDeveloperModeWarning/Default/Html5ByDefault/Enabled2/*InstanceID/Enabled/*OmniboxBundledExperimentV1/ChromeDesktopPSuggestModerateExperimentStable/ParseHTMLOnMainThread/Default/PasswordBranding/SmartLockBrandingSavePromptOnly/*PasswordGeneration/Disabled/*PasswordManagerSettingsMigration/Enable/*PersistentHistograms/Default/PluginPowerSaverTiny/Enabled2/PreconnectMore/Enabled/*QUIC/EnabledNoId/ReportCertificateErrors/ShowAndPossiblySend/SHA1IdentityUIWarning/Enabled/SHA1ToolbarUIJanuary2016/Warning/SHA1ToolbarUIJanuary2017/Error/SSLCommonNameMismatchHandling/Enabled/SSLPostQuantum/disabled/*SafeBrowsingIncidentReportingService/Default/SafeBrowsingUnverifiedDownloads/DisableByParameterMostSbTypes2/*SecurityChip/Enabled/SecurityWarningIconUpdate/Enabled/SignInPasswordPromo/Enable3/*SiteIsolationExtensions/Control/StrictSecureCookies/Enabled/*SubresourceFilter/EnabledForPhishingSites/TranslateServerStudy/Default/TranslateUI2016Q2/DefaultTranslateUI2016Q2/*UMA-Population-Restrict/normal/*UMA-Uniformity-Trial-1-Percent/group_48/*UMA-Uniformity-Trial-10-Percent/group_08/*UMA-Uniformity-Trial-100-Percent/group_01/*UMA-Uniformity-Trial-20-Percent/group_04/*UMA-Uniformity-Trial-5-Percent/group_14/*UMA-Uniformity-Trial-50-Percent/group_01/WebBluetoothBlacklist/BlacklistUpdate1/WebFontsInterventionV2/Default/ --primordial-pipe-token=91DAD9E595ABAFE2B862E6A8C56F67B1 --lang=en-GB --enable-crash-reporter=6c49b333-1549-4947-a9f0-86c9b84c5f3e, --enable-offline-auto-reload --enable-offline-auto-reload-visible-only --blink-settings=disallowFetchForDocWrittenScriptsInMainFrame=false,disallowFetchForDocWrittenScriptsInMainFrameOnSlowConnections=false --enable-pinch --num-raster-threads=1 --content-image-texture-target=0,0,3553;0,1,3553;0,2,3553;0,3,3553;0,4,3553;0,5,3553;0,6,3553;0,7,3553;0,8,3553;0,9,3553;0,10,3553;0,11,3553;0,12,3553;0,13,3553;0,14,3553;0,15,3553;1,0,3553;1,1,3553;1,2,3553;1,3,3553;1,4,3553;1,5,3553;1,6,3553;1,7,3553;1,8,3553;1,9,3553;1,10,3553;1,11,3553;1,12,3553;1,13,3553;1,14,3553;1,15,3553;2,0,3553;2,1,3553;2,2,3553;2,3,3553;2,4,3553;2,5,3553;2,6,3553;2,7,3553;2,8,3553;2,9,3553;2,10,3553;2,11,3553;2,12,3553;2,13,3553;2,14,3553;2,15,3553;3,0,3553;3,1,3553;3,2,3553;3,3,3553;3,4,3553;3,5,3553;3,6,3553;3,7,3553;3,8,3553;3,9,3553;3,10,3553;3,11,3553;3,12,3553;3,13,3553;3,14,3553;3,15,3553 --disable-accelerated-video-decode --disable-webrtc-hw-encoding --disable-gpu-compositing --service-request-channel-token=91DAD9E595ABAFE2B862E\n",
        "samba-p+  2735  0.0  0.9 525204 37640 pts/0    Sl+  10:25   0:01 /usr/bin/python -c from IPython.kernel.zmq.kernelapp import main; main() -f /home/samba-python/.ipython/profile_default/security/kernel-c4586216-f5a0-4888-b083-8c8dcb9d431a.json --IPKernelApp.parent_appname='ipython-notebook' --profile-dir /home/samba-python/.ipython/profile_default --parent=1\n",
        "www-data  3184  0.0  0.1 360724  5792 ?        Sl   10:27   0:01 /usr/sbin/apache2 -k start\n",
        "www-data  3185  0.0  0.1 360724  5792 ?        Sl   10:27   0:01 /usr/sbin/apache2 -k start\n",
        "root      3267  0.0  0.2 274820  9784 ?        Ssl  10:27   0:00 /usr/sbin/cups-browsed\n",
        "root      3451  0.0  0.0      0     0 ?        S    10:34   0:01 [kworker/0:1]\n",
        "samba-p+  3792  0.0  0.1  22684  5468 pts/1    Ss+  11:14   0:00 bash\n",
        "samba-p+  3844  0.2  1.1 667620 48552 ?        Sl   11:16   0:03 xed /home/samba-python/Documents/batch25/log1.txt\n",
        "root      3950  0.0  0.0      0     0 ?        S    11:23   0:00 [kworker/0:2]\n",
        "root      4052  0.0  0.0      0     0 ?        S    11:30   0:00 [kworker/u2:1]\n",
        "samba-p+  4197  1.7  2.9 804708 118256 ?       Sl   11:37   0:06 /opt/google/chrome/chrome --type=renderer --enable-features=AutofillProfileCleanup<AutofillProfileCleanup,BlockSmallPluginContent<PluginPowerSaverTiny,*ExpectCTReporting<ExpectCTReporting,*OverrideYouTubeFlashEmbed<Override YouTube Flash emed,ParseHTMLOnMainThread<ParseHTMLOnMainThread,*PersistentHistograms<PersistentHistograms,*PointerEvent<PointerEvent,PreconnectMore<PreconnectMore,PreferHtmlOverPlugins<Html5ByDefault,SecurityChip<SecurityChip,SecurityWarningIconUpdate<SecurityWarningIconUpdate,SubresourceFilter<SubresourceFilter,*TranslateUI2016Q2<TranslateUI2016Q2 --disable-features=DocumentWriteEvaluator<DisallowFetchForDocWrittenScriptsInMainFrame,SSLPostQuantumExperiment<SSLPostQuantum --force-fieldtrials=*AppBannerTriggering/site-engagement-eager/*AutofillProfileCleanup/Enabled/CaptivePortalInterstitial/Enabled/*ChromeChannelStable/Enabled/*ChromeSuggestionsTuning/Default/*ClientSideDetectionModel/Model0/*DataReductionProxyUseQuic/Enabled10_NoControl/*DisallowFetchForDocWrittenScriptsInMainFrame/Control_20161208_Launch/EnforceCTForProblematicRoots/disabled/ExpectCTReporting/ExpectCTReportingDisabled/*ExtensionDeveloperModeWarning/Default/*Html5ByDefault/Enabled2/*InstanceID/Enabled/*OmniboxBundledExperimentV1/ChromeDesktopPSuggestModerateExperimentStable/*ParseHTMLOnMainThread/Default/PasswordBranding/SmartLockBrandingSavePromptOnly/*PasswordGeneration/Disabled/*PasswordManagerSettingsMigration/Enable/*PersistentHistograms/Default/PluginPowerSaverTiny/Enabled2/*PreconnectMore/Enabled/*QUIC/EnabledNoId/ReportCertificateErrors/ShowAndPossiblySend/SHA1IdentityUIWarning/Enabled/SHA1ToolbarUIJanuary2016/Warning/SHA1ToolbarUIJanuary2017/Error/SSLCommonNameMismatchHandling/Enabled/*SSLPostQuantum/disabled/*SafeBrowsingIncidentReportingService/Default/SafeBrowsingUnverifiedDownloads/DisableByParameterMostSbTypes2/*SecurityChip/Enabled/SecurityWarningIconUpdate/Enabled/SignInPasswordPromo/Enable3/*SiteIsolationExtensions/Control/*StrictSecureCookies/Enabled/*SubresourceFilter/EnabledForPhishingSites/TranslateServerStudy/Default/TranslateUI2016Q2/DefaultTranslateUI2016Q2/*UMA-Population-Restrict/normal/*UMA-Uniformity-Trial-1-Percent/group_48/*UMA-Uniformity-Trial-10-Percent/group_08/*UMA-Uniformity-Trial-100-Percent/group_01/*UMA-Uniformity-Trial-20-Percent/group_04/*UMA-Uniformity-Trial-5-Percent/group_14/*UMA-Uniformity-Trial-50-Percent/group_01/WebBluetoothBlacklist/BlacklistUpdate1/*WebFontsInterventionV2/Default/ --primordial-pipe-token=14BB2580B8C55FA8B4AF6BDA2C457E36 --lang=en-GB --enable-crash-reporter=6c49b333-1549-4947-a9f0-86c9b84c5f3e, --enable-offline-auto-reload --enable-offline-auto-reload-visible-only --blink-settings=disallowFetchForDocWrittenScriptsInMainFrame=false,disallowFetchForDocWrittenScriptsInMainFrameOnSlowConnections=false --enable-pinch --num-raster-threads=1 --content-image-texture-target=0,0,3553;0,1,3553;0,2,3553;0,3,3553;0,4,3553;0,5,3553;0,6,3553;0,7,3553;0,8,3553;0,9,3553;0,10,3553;0,11,3553;0,12,3553;0,13,3553;0,14,3553;0,15,3553;1,0,3553;1,1,3553;1,2,3553;1,3,3553;1,4,3553;1,5,3553;1,6,3553;1,7,3553;1,8,3553;1,9,3553;1,10,3553;1,11,3553;1,12,3553;1,13,3553;1,14,3553;1,15,3553;2,0,3553;2,1,3553;2,2,3553;2,3,3553;2,4,3553;2,5,3553;2,6,3553;2,7,3553;2,8,3553;2,9,3553;2,10,3553;2,11,3553;2,12,3553;2,13,3553;2,14,3553;2,15,3553;3,0,3553;3,1,3553;3,2,3553;3,3,3553;3,4,3553;3,5,3553;3,6,3553;3,7,3553;3,8,3553;3,9,3553;3,10,3553;3,11,3553;3,12,3553;3,13,3553;3,14,3553;3,15,3553 --disable-accelerated-video-decode --disable-webrtc-hw-encoding --disable-gpu-compositing --service-request-channel-token=14BB2580B8C5\n",
        "samba-p+  4223  0.3  0.9 674816 37300 pts/0    Sl+  11:38   0:01 /usr/bin/python -c from IPython.kernel.zmq.kernelapp import main; main() -f /home/samba-python/.ipython/profile_default/security/kernel-88444215-e461-4d53-a7f2-d42c723615c2.json --IPKernelApp.parent_appname='ipython-notebook' --profile-dir /home/samba-python/.ipython/profile_default --parent=1\n",
        "root      4237  0.0  0.0      0     0 ?        S    11:38   0:00 [kworker/u2:2]\n",
        "root      4259  0.0  0.1 124480  7912 ?        Ss   11:41   0:00 sshd: samba-python [priv]\n",
        "root      4265  0.0  0.0      0     0 ?        S    11:41   0:00 [kworker/0:0]\n",
        "samba-p+  4277  0.0  0.1 124480  4584 ?        S    11:41   0:00 sshd: samba-python@notty\n",
        "samba-p+  4320  0.0  0.0  37364  3376 ?        Rs   11:44   0:00 ps -aux\n",
        "\n"
       ]
      }
     ],
     "prompt_number": 8
    },
    {
     "cell_type": "code",
     "collapsed": false,
     "input": [
      "\"sublime\" in process.lower()"
     ],
     "language": "python",
     "metadata": {},
     "outputs": [
      {
       "metadata": {},
       "output_type": "pyout",
       "prompt_number": 11,
       "text": [
        "True"
       ]
      }
     ],
     "prompt_number": 11
    },
    {
     "cell_type": "code",
     "collapsed": false,
     "input": [
      "process"
     ],
     "language": "python",
     "metadata": {},
     "outputs": [
      {
       "metadata": {},
       "output_type": "pyout",
       "prompt_number": 12,
       "text": [
        "\"USER       PID %CPU %MEM    VSZ   RSS TTY      STAT START   TIME COMMAND\\nroot         1  0.0  0.1 119628  5720 ?        Ss   10:22   0:03 /sbin/init splash\\nroot         2  0.0  0.0      0     0 ?        S    10:22   0:00 [kthreadd]\\nroot         3  0.0  0.0      0     0 ?        S    10:22   0:00 [ksoftirqd/0]\\nroot         5  0.0  0.0      0     0 ?        S<   10:22   0:00 [kworker/0:0H]\\nroot         7  0.0  0.0      0     0 ?        S    10:22   0:01 [rcu_sched]\\nroot         8  0.0  0.0      0     0 ?        S    10:22   0:00 [rcu_bh]\\nroot         9  0.0  0.0      0     0 ?        S    10:22   0:00 [migration/0]\\nroot        10  0.0  0.0      0     0 ?        S    10:22   0:00 [watchdog/0]\\nroot        11  0.0  0.0      0     0 ?        S    10:22   0:00 [kdevtmpfs]\\nroot        12  0.0  0.0      0     0 ?        S<   10:22   0:00 [netns]\\nroot        13  0.0  0.0      0     0 ?        S<   10:22   0:00 [perf]\\nroot        14  0.0  0.0      0     0 ?        S    10:22   0:00 [khungtaskd]\\nroot        15  0.0  0.0      0     0 ?        S<   10:22   0:00 [writeback]\\nroot        16  0.0  0.0      0     0 ?        SN   10:22   0:00 [ksmd]\\nroot        17  0.0  0.0      0     0 ?        SN   10:22   0:00 [khugepaged]\\nroot        18  0.0  0.0      0     0 ?        S<   10:22   0:00 [crypto]\\nroot        19  0.0  0.0      0     0 ?        S<   10:22   0:00 [kintegrityd]\\nroot        20  0.0  0.0      0     0 ?        S<   10:22   0:00 [bioset]\\nroot        21  0.0  0.0      0     0 ?        S<   10:22   0:00 [kblockd]\\nroot        22  0.0  0.0      0     0 ?        S<   10:22   0:00 [ata_sff]\\nroot        23  0.0  0.0      0     0 ?        S<   10:22   0:00 [md]\\nroot        24  0.0  0.0      0     0 ?        S<   10:22   0:00 [devfreq_wq]\\nroot        28  0.0  0.0      0     0 ?        S    10:22   0:00 [kswapd0]\\nroot        29  0.0  0.0      0     0 ?        S<   10:22   0:00 [vmstat]\\nroot        30  0.0  0.0      0     0 ?        S    10:22   0:00 [fsnotify_mark]\\nroot        31  0.0  0.0      0     0 ?        S    10:22   0:00 [ecryptfs-kthrea]\\nroot        47  0.0  0.0      0     0 ?        S<   10:22   0:00 [kthrotld]\\nroot        48  0.0  0.0      0     0 ?        S<   10:22   0:00 [acpi_thermal_pm]\\nroot        49  0.0  0.0      0     0 ?        S<   10:22   0:00 [bioset]\\nroot        50  0.0  0.0      0     0 ?        S<   10:22   0:00 [bioset]\\nroot        51  0.0  0.0      0     0 ?        S<   10:22   0:00 [bioset]\\nroot        52  0.0  0.0      0     0 ?        S<   10:22   0:00 [bioset]\\nroot        53  0.0  0.0      0     0 ?        S<   10:22   0:00 [bioset]\\nroot        54  0.0  0.0      0     0 ?        S<   10:22   0:00 [bioset]\\nroot        55  0.0  0.0      0     0 ?        S<   10:22   0:00 [bioset]\\nroot        56  0.0  0.0      0     0 ?        S<   10:22   0:00 [bioset]\\nroot        57  0.0  0.0      0     0 ?        S<   10:22   0:00 [bioset]\\nroot        58  0.0  0.0      0     0 ?        S<   10:22   0:00 [bioset]\\nroot        59  0.0  0.0      0     0 ?        S<   10:22   0:00 [bioset]\\nroot        60  0.0  0.0      0     0 ?        S<   10:22   0:00 [bioset]\\nroot        61  0.0  0.0      0     0 ?        S<   10:22   0:00 [bioset]\\nroot        62  0.0  0.0      0     0 ?        S<   10:22   0:00 [bioset]\\nroot        63  0.0  0.0      0     0 ?        S<   10:22   0:00 [bioset]\\nroot        64  0.0  0.0      0     0 ?        S<   10:22   0:00 [bioset]\\nroot        65  0.0  0.0      0     0 ?        S<   10:22   0:00 [bioset]\\nroot        66  0.0  0.0      0     0 ?        S<   10:22   0:00 [bioset]\\nroot        67  0.0  0.0      0     0 ?        S<   10:22   0:00 [bioset]\\nroot        68  0.0  0.0      0     0 ?        S<   10:22   0:00 [bioset]\\nroot        69  0.0  0.0      0     0 ?        S<   10:22   0:00 [bioset]\\nroot        70  0.0  0.0      0     0 ?        S<   10:22   0:00 [bioset]\\nroot        71  0.0  0.0      0     0 ?        S<   10:22   0:00 [bioset]\\nroot        72  0.0  0.0      0     0 ?        S<   10:22   0:00 [bioset]\\nroot        73  0.0  0.0      0     0 ?        S    10:22   0:00 [scsi_eh_0]\\nroot        74  0.0  0.0      0     0 ?        S<   10:22   0:00 [scsi_tmf_0]\\nroot        75  0.0  0.0      0     0 ?        S    10:22   0:00 [scsi_eh_1]\\nroot        76  0.0  0.0      0     0 ?        S<   10:22   0:00 [scsi_tmf_1]\\nroot        82  0.0  0.0      0     0 ?        S<   10:22   0:00 [ipv6_addrconf]\\nroot        95  0.0  0.0      0     0 ?        S<   10:22   0:00 [deferwq]\\nroot        96  0.0  0.0      0     0 ?        S<   10:22   0:00 [charger_manager]\\nroot        97  0.0  0.0      0     0 ?        S<   10:22   0:00 [bioset]\\nroot       144  0.0  0.0      0     0 ?        S<   10:22   0:00 [kpsmoused]\\nroot       147  0.0  0.0      0     0 ?        S<   10:22   0:00 [kworker/0:1H]\\nroot       148  0.0  0.0      0     0 ?        S    10:22   0:00 [scsi_eh_2]\\nroot       149  0.0  0.0      0     0 ?        S<   10:22   0:00 [scsi_tmf_2]\\nroot       150  0.0  0.0      0     0 ?        S<   10:22   0:00 [bioset]\\nroot       231  0.0  0.0      0     0 ?        S<   10:22   0:00 [bioset]\\nroot       265  0.0  0.0      0     0 ?        S    10:22   0:00 [jbd2/sda1-8]\\nroot       266  0.0  0.0      0     0 ?        S<   10:22   0:00 [ext4-rsv-conver]\\nroot       308  0.0  0.0  32244  3600 ?        Ss   10:22   0:00 /lib/systemd/systemd-journald\\nroot       321  0.0  0.0      0     0 ?        S    10:22   0:00 [kauditd]\\nroot       338  0.0  0.0  94772  1480 ?        Ss   10:22   0:00 /sbin/lvmetad -f\\nroot       353  0.0  0.1  45452  4608 ?        Ss   10:22   0:00 /lib/systemd/systemd-udevd\\nroot       517  0.0  0.0      0     0 ?        S<   10:22   0:00 [iprt-VBoxWQueue]\\nroot       627  0.0  0.0      0     0 ?        S<   10:22   0:00 [ttm_swap]\\nroot       725  0.0  0.0  29008  2968 ?        Ss   10:22   0:00 /usr/sbin/cron -f\\nroot       727  0.0  0.2 291280  8340 ?        Ssl  10:22   0:00 /usr/lib/accountsservice/accounts-daemon\\nroot       734  0.0  0.0  29880  1664 ?        Ss   10:22   0:00 /sbin/cgmanager -m name=systemd\\nroot       744  0.0  0.0  28624  3156 ?        Ss   10:22   0:00 /lib/systemd/systemd-logind\\nroot       757  0.0  0.0   4400  1328 ?        Ss   10:22   0:00 /usr/sbin/acpid\\nsyslog     760  0.0  0.0 256396  3400 ?        Ssl  10:22   0:00 /usr/sbin/rsyslogd -n\\nmessage+   774  0.0  0.1  44064  4556 ?        Ss   10:22   0:01 /usr/bin/dbus-daemon --system --address=systemd: --nofork --nopidfile --systemd-activation\\nroot       804  0.0  0.4 381704 16564 ?        Ssl  10:22   0:00 /usr/sbin/NetworkManager --no-daemon\\nroot       807  0.0  0.2 337324  8680 ?        Ssl  10:22   0:00 /usr/sbin/ModemManager\\navahi      810  0.0  0.0  44788  3124 ?        Ss   10:22   0:00 avahi-daemon: running [samba.local]\\navahi      846  0.0  0.0  44788   344 ?        S    10:23   0:00 avahi-daemon: chroot helper\\nroot       888  0.0  0.2 294448 10316 ?        Ssl  10:23   0:00 /usr/lib/policykit-1/polkitd --no-debug\\nroot       946  0.0  0.0 256748  3348 ?        Sl   10:23   0:01 /usr/sbin/VBoxService\\nroot       954  0.0  0.1 594928  6576 ?        Ssl  10:23   0:00 /usr/sbin/console-kit-daemon --no-daemon\\nroot      1049  0.0  0.1  65520  5672 ?        Ss   10:23   0:00 /usr/sbin/sshd -D\\npostgres  1079  0.0  0.5 294660 24120 ?        S    10:23   0:00 /usr/lib/postgresql/9.5/bin/postgres -D /var/lib/postgresql/9.5/main -c config_file=/etc/postgresql/9.5/main/postgresql.conf\\nroot      1092  0.0  0.0  16120  3696 ?        S    10:23   0:00 /sbin/dhclient -d -q -sf /usr/lib/NetworkManager/nm-dhcp-helper -pf /var/run/dhclient-enp0s3.pid -lf /var/lib/NetworkManager/dhclient-9b016959-6891-3fa3-9c00-ebe5572588db-enp0s3.lease -cf /var/lib/NetworkManager/dhclient-enp0s3.conf enp0s3\\nnobody    1104  0.0  0.1  52868  4236 ?        S    10:23   0:00 /usr/sbin/dnsmasq --no-resolv --keep-in-foreground --no-hosts --bind-interfaces --pid-file=/var/run/NetworkManager/dnsmasq.pid --listen-address=127.0.1.1 --cache-size=0 --conf-file=/dev/null --proxy-dnssec --enable-dbus=org.freedesktop.NetworkManager.dnsmasq --conf-dir=/etc/NetworkManager/dnsmasq.d\\nroot      1109  0.0  0.0 125100  1452 ?        Ss   10:23   0:00 nginx: master process /usr/sbin/nginx -g daemon on; master_process on;\\nwww-data  1110  0.0  0.0 125424  3276 ?        S    10:23   0:00 nginx: worker process\\nntp       1386  0.0  0.1 112096  5316 ?        Ss   10:23   0:00 /usr/sbin/ntpd -p /var/run/ntpd.pid -g -u 108:114\\nroot      1465  0.0  0.0  15940  1800 tty1     Ss+  10:23   0:00 /sbin/agetty --noclear tty1 linux\\nroot      1467  0.0  0.2 141348  8440 ?        Ss   10:23   0:00 /usr/sbin/mdm --nodaemon\\nroot      1655  0.0  0.2 193732  9056 ?        S    10:23   0:00 /usr/sbin/mdm --nodaemon\\nroot      1663  3.5  2.4 359260 100888 tty7    Ss+  10:23   2:51 /usr/lib/xorg/Xorg :0 -audit 0 -auth /var/lib/mdm/:0.Xauth -nolisten tcp vt7\\nroot      1674  0.0  0.1  71568  4972 ?        Ss   10:23   0:00 /usr/sbin/apache2 -k start\\npostgres  1780  0.0  0.0 294660  3928 ?        Ss   10:23   0:00 postgres: checkpointer process   \\npostgres  1781  0.0  0.1 294660  5556 ?        Ss   10:23   0:00 postgres: writer process   \\npostgres  1782  0.0  0.0 294660  3928 ?        Ss   10:23   0:00 postgres: wal writer process   \\npostgres  1783  0.0  0.1 294956  4948 ?        Ss   10:23   0:00 postgres: autovacuum launcher process   \\npostgres  1784  0.0  0.0 149644  3172 ?        Ss   10:23   0:00 postgres: stats collector process   \\nmdm       1833  0.0  0.0  43732  2464 ?        S    10:23   0:00 dbus-launch --autolaunch=5ab3c275b7304ed3b8aeef9ffcc37eb4 --binary-syntax --close-stderr\\nmdm       1844  0.0  0.0  42768  2532 ?        Ss   10:23   0:00 /usr/bin/dbus-daemon --fork --print-pid 5 --print-address 7 --session\\nsamba-p+  1896  0.0  0.1  45248  4716 ?        Ss   10:23   0:00 /lib/systemd/systemd --user\\nsamba-p+  1899  0.0  0.0  97896  2132 ?        S    10:23   0:00 (sd-pam)\\nsamba-p+  1904  0.0  0.1 278952  7588 ?        Sl   10:23   0:00 /usr/bin/gnome-keyring-daemon --daemonize --login\\nsamba-p+  1915  0.0  0.5 424392 22972 ?        Ssl  10:23   0:00 cinnamon-session --session cinnamon\\nsamba-p+  1992  0.0  0.0  49516   320 ?        S    10:23   0:00 /usr/bin/VBoxClient --clipboard\\nsamba-p+  1993  0.0  0.1 117776  4248 ?        Sl   10:23   0:00 /usr/bin/VBoxClient --clipboard\\nsamba-p+  2002  0.0  0.0  49516   320 ?        S    10:23   0:00 /usr/bin/VBoxClient --display\\nsamba-p+  2003  0.0  0.0  49652  3384 ?        S    10:23   0:00 /usr/bin/VBoxClient --display\\nsamba-p+  2007  0.0  0.0  49516   320 ?        S    10:23   0:00 /usr/bin/VBoxClient --seamless\\nsamba-p+  2008  0.0  0.0 115700  2072 ?        Sl   10:23   0:00 /usr/bin/VBoxClient --seamless\\nsamba-p+  2011  0.0  0.0  49516   320 ?        S    10:23   0:00 /usr/bin/VBoxClient --draganddrop\\nsamba-p+  2012  0.1  0.0 116216  2076 ?        Sl   10:23   0:07 /usr/bin/VBoxClient --draganddrop\\nsamba-p+  2024  0.0  0.0  11140   316 ?        Ss   10:23   0:00 /usr/bin/ssh-agent /usr/bin/dbus-launch --exit-with-session /usr/bin/im-launch cinnamon-session-cinnamon\\nsamba-p+  2027  0.0  0.0  43736  2408 ?        S    10:23   0:00 /usr/bin/dbus-launch --exit-with-session /usr/bin/im-launch cinnamon-session-cinnamon\\nsamba-p+  2028  0.0  0.0  43360  3732 ?        Ss   10:23   0:00 /usr/bin/dbus-daemon --fork --print-pid 6 --print-address 9 --session\\nsamba-p+  2040  0.0  0.1 274524  6332 ?        Sl   10:23   0:00 /usr/lib/gvfs/gvfsd\\nsamba-p+  2045  0.0  0.2 419960  9272 ?        Sl   10:23   0:00 /usr/lib/gvfs/gvfsd-fuse /run/user/1000/gvfs -f -o big_writes\\nsamba-p+  2055  0.0  0.2 353836  8120 ?        Sl   10:23   0:00 /usr/lib/at-spi2-core/at-spi-bus-launcher\\nsamba-p+  2060  0.0  0.0  42900  4004 ?        S    10:23   0:00 /usr/bin/dbus-daemon --config-file=/etc/at-spi2/accessibility.conf --nofork --print-address 3\\nsamba-p+  2062  0.0  0.1 206876  6308 ?        Sl   10:23   0:00 /usr/lib/at-spi2-core/at-spi2-registryd --use-gnome-session\\nsamba-p+  2067  0.0  1.1 1137548 47236 ?       Sl   10:23   0:01 /usr/lib/x86_64-linux-gnu/cinnamon-settings-daemon/cinnamon-settings-daemon\\nsamba-p+  2089  0.0  0.2 435032 11716 ?        S<l  10:23   0:00 /usr/bin/pulseaudio --start --log-target=syslog\\nrtkit     2090  0.0  0.0 183544  3156 ?        SNsl 10:23   0:00 /usr/lib/rtkit/rtkit-daemon\\nroot      2114  0.0  0.2 347140  9840 ?        Ssl  10:23   0:00 /usr/lib/upower/upowerd\\nsamba-p+  2324  0.0  0.1 178664  4700 ?        Sl   10:23   0:00 /usr/lib/dconf/dconf-service\\nsamba-p+  2328  0.0  0.2 296380  9820 ?        Sl   10:23   0:00 /usr/lib/gvfs/gvfs-udisks2-volume-monitor\\nroot      2331  0.0  0.2 383012 10164 ?        Ssl  10:23   0:00 /usr/lib/udisks2/udisksd --no-debug\\nsamba-p+  2340  0.0  0.2 403604  9148 ?        Sl   10:23   0:00 /usr/lib/gvfs/gvfs-afc-volume-monitor\\nsamba-p+  2346  0.0  0.1 259524  4484 ?        Sl   10:23   0:00 /usr/lib/gvfs/gvfs-mtp-volume-monitor\\nsamba-p+  2351  0.0  0.1 271720  5252 ?        Sl   10:23   0:00 /usr/lib/gvfs/gvfs-gphoto2-volume-monitor\\nsamba-p+  2356  0.0  0.1 257536  4360 ?        Sl   10:23   0:00 /usr/lib/gvfs/gvfs-goa-volume-monitor\\nsamba-p+  2360  0.0  0.7 187220 30320 ?        S    10:23   0:00 /usr/bin/python3 /usr/bin/cinnamon-launcher\\ncolord    2361  0.0  0.3 313512 12964 ?        Ssl  10:23   0:00 /usr/lib/colord/colord\\nsamba-p+  2367  0.0  0.3 501644 13776 ?        Sl   10:23   0:00 /usr/lib/x86_64-linux-gnu/cinnamon-settings-daemon/csd-printer\\nsamba-p+  2379 28.1  5.7 1369280 233732 ?      Sl   10:23  22:42 cinnamon --replace\\nsamba-p+  2385  0.0  0.5 330592 20336 ?        Sl   10:23   0:00 /usr/lib/policykit-1-gnome/polkit-gnome-authentication-agent-1\\nsamba-p+  2391  0.0  1.5 828512 64408 ?        Sl   10:23   0:04 nemo -n\\nsamba-p+  2392  0.0  0.8 531292 34224 ?        Sl   10:23   0:00 nm-applet\\nsamba-p+  2393  0.0  0.7 419908 31408 ?        Sl   10:23   0:00 /usr/bin/python3 /usr/bin/cinnamon-killer-daemon\\nsamba-p+  2423  0.0  0.1 185980  5608 ?        Sl   10:23   0:00 /usr/lib/gvfs/gvfsd-metadata\\nsamba-p+  2428  0.0  0.2 363668  8656 ?        Sl   10:23   0:00 /usr/lib/gvfs/gvfsd-trash --spawner :1.1 /org/gtk/gvfs/exec_spaw/0\\nsamba-p+  2437  0.0  1.1 662392 48092 ?        Sl   10:23   0:01 cinnamon-screensaver\\nsamba-p+  2491  0.0  0.9 488912 38164 ?        Sl   10:24   0:02 /usr/lib/gnome-terminal/gnome-terminal-server\\nsamba-p+  2496  0.0  0.2  30064 10420 ?        S    10:24   0:00 /usr/bin/python3 /usr/bin/mintupdate-launcher\\nsamba-p+  2497  0.0  0.1  22664  5448 pts/0    Ss   10:24   0:00 bash\\nsamba-p+  2500  0.0  0.0   4508   760 ?        S    10:24   0:00 sh -c /usr/lib/linuxmint/mintUpdate/mintUpdate.py\\nsamba-p+  2501  0.0  1.3 711520 56164 ?        Sl   10:24   0:00 /usr/bin/python3 /usr/lib/linuxmint/mintUpdate/mintUpdate.py\\nsamba-p+  2539  0.0  0.7 235980 30380 ?        Sl   10:24   0:00 /usr/bin/python3 /usr/share/system-config-printer/applet.py\\nsamba-p+  2544  0.4  1.4 902368 58060 ?        Ssl  10:24   0:21 /opt/sublime_text/sublime_text\\nsamba-p+  2555  0.0  0.4 119452 20144 ?        Sl   10:24   0:03 /opt/sublime_text/plugin_host 2544\\nsamba-p+  2574  0.0  1.0 296192 44224 pts/0    Sl+  10:24   0:02 /usr/bin/python /usr/bin/ipython notebook\\nsamba-p+  2602  0.0  0.2 399908 10940 ?        Sl   10:24   0:00 /usr/lib/gvfs/gvfsd-http --spawner :1.1 /org/gtk/gvfs/exec_spaw/1\\nsamba-p+  2608  1.2  3.8 907156 154184 ?       SLl  10:24   1:00 /opt/google/chrome/chrome http://localhost:8888/tree\\nsamba-p+  2614  0.0  0.0   7448   672 ?        S    10:24   0:00 cat\\nsamba-p+  2615  0.0  0.0   7448   772 ?        S    10:24   0:00 cat\\nsamba-p+  2618  0.0  1.2 370356 48704 ?        S    10:24   0:00 /opt/google/chrome/chrome --type=zygote --enable-crash-reporter=6c49b333-1549-4947-a9f0-86c9b84c5f3e,\\nsamba-p+  2619  0.0  0.1  26992  4848 ?        S    10:24   0:00 /opt/google/chrome/nacl_helper\\nsamba-p+  2622  0.0  0.2 370356 11704 ?        S    10:24   0:00 /opt/google/chrome/chrome --type=zygote --enable-crash-reporter=6c49b333-1549-4947-a9f0-86c9b84c5f3e,\\nsamba-p+  2625  0.0  0.1  61168  5332 ?        S    10:24   0:00 /usr/lib/x86_64-linux-gnu/gconf/gconfd-2\\nsamba-p+  2674  2.4  3.2 834020 131864 ?       Rl   10:24   1:55 /opt/google/chrome/chrome --type=renderer --enable-features=AutofillProfileCleanup<AutofillProfileCleanup,BlockSmallPluginContent<PluginPowerSaverTiny,*ExpectCTReporting<ExpectCTReporting,*OverrideYouTubeFlashEmbed<Override YouTube Flash emed,ParseHTMLOnMainThread<ParseHTMLOnMainThread,*PersistentHistograms<PersistentHistograms,*PointerEvent<PointerEvent,PreconnectMore<PreconnectMore,PreferHtmlOverPlugins<Html5ByDefault,SecurityChip<SecurityChip,SecurityWarningIconUpdate<SecurityWarningIconUpdate,SubresourceFilter<SubresourceFilter,*TranslateUI2016Q2<TranslateUI2016Q2 --disable-features=DocumentWriteEvaluator<DisallowFetchForDocWrittenScriptsInMainFrame,SSLPostQuantumExperiment<SSLPostQuantum --force-fieldtrials=*AppBannerTriggering/site-engagement-eager/*AutofillProfileCleanup/Enabled/CaptivePortalInterstitial/Enabled/*ChromeChannelStable/Enabled/*ChromeSuggestionsTuning/Default/*ClientSideDetectionModel/Model0/DataReductionProxyUseQuic/Enabled10_NoControl/DisallowFetchForDocWrittenScriptsInMainFrame/Control_20161208_Launch/EnforceCTForProblematicRoots/disabled/ExpectCTReporting/ExpectCTReportingDisabled/ExtensionDeveloperModeWarning/Default/Html5ByDefault/Enabled2/*InstanceID/Enabled/*OmniboxBundledExperimentV1/ChromeDesktopPSuggestModerateExperimentStable/ParseHTMLOnMainThread/Default/PasswordBranding/SmartLockBrandingSavePromptOnly/*PasswordGeneration/Disabled/*PasswordManagerSettingsMigration/Enable/*PersistentHistograms/Default/PluginPowerSaverTiny/Enabled2/PreconnectMore/Enabled/*QUIC/EnabledNoId/ReportCertificateErrors/ShowAndPossiblySend/SHA1IdentityUIWarning/Enabled/SHA1ToolbarUIJanuary2016/Warning/SHA1ToolbarUIJanuary2017/Error/SSLCommonNameMismatchHandling/Enabled/SSLPostQuantum/disabled/*SafeBrowsingIncidentReportingService/Default/SafeBrowsingUnverifiedDownloads/DisableByParameterMostSbTypes2/*SecurityChip/Enabled/SecurityWarningIconUpdate/Enabled/SignInPasswordPromo/Enable3/*SiteIsolationExtensions/Control/StrictSecureCookies/Enabled/*SubresourceFilter/EnabledForPhishingSites/TranslateServerStudy/Default/TranslateUI2016Q2/DefaultTranslateUI2016Q2/*UMA-Population-Restrict/normal/*UMA-Uniformity-Trial-1-Percent/group_48/*UMA-Uniformity-Trial-10-Percent/group_08/*UMA-Uniformity-Trial-100-Percent/group_01/*UMA-Uniformity-Trial-20-Percent/group_04/*UMA-Uniformity-Trial-5-Percent/group_14/*UMA-Uniformity-Trial-50-Percent/group_01/WebBluetoothBlacklist/BlacklistUpdate1/WebFontsInterventionV2/Default/ --primordial-pipe-token=91DAD9E595ABAFE2B862E6A8C56F67B1 --lang=en-GB --enable-crash-reporter=6c49b333-1549-4947-a9f0-86c9b84c5f3e, --enable-offline-auto-reload --enable-offline-auto-reload-visible-only --blink-settings=disallowFetchForDocWrittenScriptsInMainFrame=false,disallowFetchForDocWrittenScriptsInMainFrameOnSlowConnections=false --enable-pinch --num-raster-threads=1 --content-image-texture-target=0,0,3553;0,1,3553;0,2,3553;0,3,3553;0,4,3553;0,5,3553;0,6,3553;0,7,3553;0,8,3553;0,9,3553;0,10,3553;0,11,3553;0,12,3553;0,13,3553;0,14,3553;0,15,3553;1,0,3553;1,1,3553;1,2,3553;1,3,3553;1,4,3553;1,5,3553;1,6,3553;1,7,3553;1,8,3553;1,9,3553;1,10,3553;1,11,3553;1,12,3553;1,13,3553;1,14,3553;1,15,3553;2,0,3553;2,1,3553;2,2,3553;2,3,3553;2,4,3553;2,5,3553;2,6,3553;2,7,3553;2,8,3553;2,9,3553;2,10,3553;2,11,3553;2,12,3553;2,13,3553;2,14,3553;2,15,3553;3,0,3553;3,1,3553;3,2,3553;3,3,3553;3,4,3553;3,5,3553;3,6,3553;3,7,3553;3,8,3553;3,9,3553;3,10,3553;3,11,3553;3,12,3553;3,13,3553;3,14,3553;3,15,3553 --disable-accelerated-video-decode --disable-webrtc-hw-encoding --disable-gpu-compositing --service-request-channel-token=91DAD9E595ABAFE2B862E\\nsamba-p+  2735  0.0  0.9 525204 37640 pts/0    Sl+  10:25   0:01 /usr/bin/python -c from IPython.kernel.zmq.kernelapp import main; main() -f /home/samba-python/.ipython/profile_default/security/kernel-c4586216-f5a0-4888-b083-8c8dcb9d431a.json --IPKernelApp.parent_appname='ipython-notebook' --profile-dir /home/samba-python/.ipython/profile_default --parent=1\\nwww-data  3184  0.0  0.1 360724  5792 ?        Sl   10:27   0:01 /usr/sbin/apache2 -k start\\nwww-data  3185  0.0  0.1 360724  5792 ?        Sl   10:27   0:01 /usr/sbin/apache2 -k start\\nroot      3267  0.0  0.2 274820  9784 ?        Ssl  10:27   0:00 /usr/sbin/cups-browsed\\nroot      3451  0.0  0.0      0     0 ?        S    10:34   0:01 [kworker/0:1]\\nsamba-p+  3792  0.0  0.1  22684  5468 pts/1    Ss+  11:14   0:00 bash\\nsamba-p+  3844  0.2  1.1 667620 48552 ?        Sl   11:16   0:03 xed /home/samba-python/Documents/batch25/log1.txt\\nroot      3950  0.0  0.0      0     0 ?        S    11:23   0:00 [kworker/0:2]\\nroot      4052  0.0  0.0      0     0 ?        S    11:30   0:00 [kworker/u2:1]\\nsamba-p+  4197  1.7  2.9 804708 118256 ?       Sl   11:37   0:06 /opt/google/chrome/chrome --type=renderer --enable-features=AutofillProfileCleanup<AutofillProfileCleanup,BlockSmallPluginContent<PluginPowerSaverTiny,*ExpectCTReporting<ExpectCTReporting,*OverrideYouTubeFlashEmbed<Override YouTube Flash emed,ParseHTMLOnMainThread<ParseHTMLOnMainThread,*PersistentHistograms<PersistentHistograms,*PointerEvent<PointerEvent,PreconnectMore<PreconnectMore,PreferHtmlOverPlugins<Html5ByDefault,SecurityChip<SecurityChip,SecurityWarningIconUpdate<SecurityWarningIconUpdate,SubresourceFilter<SubresourceFilter,*TranslateUI2016Q2<TranslateUI2016Q2 --disable-features=DocumentWriteEvaluator<DisallowFetchForDocWrittenScriptsInMainFrame,SSLPostQuantumExperiment<SSLPostQuantum --force-fieldtrials=*AppBannerTriggering/site-engagement-eager/*AutofillProfileCleanup/Enabled/CaptivePortalInterstitial/Enabled/*ChromeChannelStable/Enabled/*ChromeSuggestionsTuning/Default/*ClientSideDetectionModel/Model0/*DataReductionProxyUseQuic/Enabled10_NoControl/*DisallowFetchForDocWrittenScriptsInMainFrame/Control_20161208_Launch/EnforceCTForProblematicRoots/disabled/ExpectCTReporting/ExpectCTReportingDisabled/*ExtensionDeveloperModeWarning/Default/*Html5ByDefault/Enabled2/*InstanceID/Enabled/*OmniboxBundledExperimentV1/ChromeDesktopPSuggestModerateExperimentStable/*ParseHTMLOnMainThread/Default/PasswordBranding/SmartLockBrandingSavePromptOnly/*PasswordGeneration/Disabled/*PasswordManagerSettingsMigration/Enable/*PersistentHistograms/Default/PluginPowerSaverTiny/Enabled2/*PreconnectMore/Enabled/*QUIC/EnabledNoId/ReportCertificateErrors/ShowAndPossiblySend/SHA1IdentityUIWarning/Enabled/SHA1ToolbarUIJanuary2016/Warning/SHA1ToolbarUIJanuary2017/Error/SSLCommonNameMismatchHandling/Enabled/*SSLPostQuantum/disabled/*SafeBrowsingIncidentReportingService/Default/SafeBrowsingUnverifiedDownloads/DisableByParameterMostSbTypes2/*SecurityChip/Enabled/SecurityWarningIconUpdate/Enabled/SignInPasswordPromo/Enable3/*SiteIsolationExtensions/Control/*StrictSecureCookies/Enabled/*SubresourceFilter/EnabledForPhishingSites/TranslateServerStudy/Default/TranslateUI2016Q2/DefaultTranslateUI2016Q2/*UMA-Population-Restrict/normal/*UMA-Uniformity-Trial-1-Percent/group_48/*UMA-Uniformity-Trial-10-Percent/group_08/*UMA-Uniformity-Trial-100-Percent/group_01/*UMA-Uniformity-Trial-20-Percent/group_04/*UMA-Uniformity-Trial-5-Percent/group_14/*UMA-Uniformity-Trial-50-Percent/group_01/WebBluetoothBlacklist/BlacklistUpdate1/*WebFontsInterventionV2/Default/ --primordial-pipe-token=14BB2580B8C55FA8B4AF6BDA2C457E36 --lang=en-GB --enable-crash-reporter=6c49b333-1549-4947-a9f0-86c9b84c5f3e, --enable-offline-auto-reload --enable-offline-auto-reload-visible-only --blink-settings=disallowFetchForDocWrittenScriptsInMainFrame=false,disallowFetchForDocWrittenScriptsInMainFrameOnSlowConnections=false --enable-pinch --num-raster-threads=1 --content-image-texture-target=0,0,3553;0,1,3553;0,2,3553;0,3,3553;0,4,3553;0,5,3553;0,6,3553;0,7,3553;0,8,3553;0,9,3553;0,10,3553;0,11,3553;0,12,3553;0,13,3553;0,14,3553;0,15,3553;1,0,3553;1,1,3553;1,2,3553;1,3,3553;1,4,3553;1,5,3553;1,6,3553;1,7,3553;1,8,3553;1,9,3553;1,10,3553;1,11,3553;1,12,3553;1,13,3553;1,14,3553;1,15,3553;2,0,3553;2,1,3553;2,2,3553;2,3,3553;2,4,3553;2,5,3553;2,6,3553;2,7,3553;2,8,3553;2,9,3553;2,10,3553;2,11,3553;2,12,3553;2,13,3553;2,14,3553;2,15,3553;3,0,3553;3,1,3553;3,2,3553;3,3,3553;3,4,3553;3,5,3553;3,6,3553;3,7,3553;3,8,3553;3,9,3553;3,10,3553;3,11,3553;3,12,3553;3,13,3553;3,14,3553;3,15,3553 --disable-accelerated-video-decode --disable-webrtc-hw-encoding --disable-gpu-compositing --service-request-channel-token=14BB2580B8C5\\nsamba-p+  4223  0.3  0.9 674816 37300 pts/0    Sl+  11:38   0:01 /usr/bin/python -c from IPython.kernel.zmq.kernelapp import main; main() -f /home/samba-python/.ipython/profile_default/security/kernel-88444215-e461-4d53-a7f2-d42c723615c2.json --IPKernelApp.parent_appname='ipython-notebook' --profile-dir /home/samba-python/.ipython/profile_default --parent=1\\nroot      4237  0.0  0.0      0     0 ?        S    11:38   0:00 [kworker/u2:2]\\nroot      4259  0.0  0.1 124480  7912 ?        Ss   11:41   0:00 sshd: samba-python [priv]\\nroot      4265  0.0  0.0      0     0 ?        S    11:41   0:00 [kworker/0:0]\\nsamba-p+  4277  0.0  0.1 124480  4584 ?        S    11:41   0:00 sshd: samba-python@notty\\nsamba-p+  4320  0.0  0.0  37364  3376 ?        Rs   11:44   0:00 ps -aux\\n\""
       ]
      }
     ],
     "prompt_number": 12
    },
    {
     "cell_type": "code",
     "collapsed": false,
     "input": [
      "for proces in process:\n",
      "    print proces\n",
      "    break\n",
      "    "
     ],
     "language": "python",
     "metadata": {},
     "outputs": [
      {
       "output_type": "stream",
       "stream": "stdout",
       "text": [
        "U\n"
       ]
      }
     ],
     "prompt_number": 13
    },
    {
     "cell_type": "code",
     "collapsed": false,
     "input": [
      "for proces in process.splitlines():\n",
      "    print proces\n",
      "    break\n",
      "    "
     ],
     "language": "python",
     "metadata": {},
     "outputs": [
      {
       "output_type": "stream",
       "stream": "stdout",
       "text": [
        "USER       PID %CPU %MEM    VSZ   RSS TTY      STAT START   TIME COMMAND\n"
       ]
      }
     ],
     "prompt_number": 14
    },
    {
     "cell_type": "code",
     "collapsed": false,
     "input": [
      "for proces in process.splitlines():\n",
      "    if \"sublime\" in proces:\n",
      "        print proces\n",
      "        break"
     ],
     "language": "python",
     "metadata": {},
     "outputs": [
      {
       "output_type": "stream",
       "stream": "stdout",
       "text": [
        "samba-p+  2544  0.4  1.4 902368 58060 ?        Ssl  10:24   0:21 /opt/sublime_text/sublime_text\n"
       ]
      }
     ],
     "prompt_number": 15
    },
    {
     "cell_type": "code",
     "collapsed": false,
     "input": [
      "for proces in process.splitlines():\n",
      "    if \"sublime\" in proces:\n",
      "        print proces.split()\n",
      "        break"
     ],
     "language": "python",
     "metadata": {},
     "outputs": [
      {
       "output_type": "stream",
       "stream": "stdout",
       "text": [
        "['samba-p+', '2544', '0.4', '1.4', '902368', '58060', '?', 'Ssl', '10:24', '0:21', '/opt/sublime_text/sublime_text']\n"
       ]
      }
     ],
     "prompt_number": 16
    },
    {
     "cell_type": "code",
     "collapsed": false,
     "input": [
      "for proces in process.splitlines():\n",
      "    if \"sublime\" in proces:\n",
      "        print proces.split()[1]\n",
      "        break"
     ],
     "language": "python",
     "metadata": {},
     "outputs": [
      {
       "output_type": "stream",
       "stream": "stdout",
       "text": [
        "2544\n"
       ]
      }
     ],
     "prompt_number": 17
    },
    {
     "cell_type": "code",
     "collapsed": false,
     "input": [
      "pid=\"\"\n",
      "for proces in process.splitlines():\n",
      "    if \"sublime\" in proces:\n",
      "        pid=proces.split()[1]\n",
      "        break\n",
      "if pid:\n",
      "    ssh.exec_command(\"kill -9 {0}\".format(pid))\n",
      "else:\n",
      "    print \"process not found\""
     ],
     "language": "python",
     "metadata": {},
     "outputs": [],
     "prompt_number": 19
    },
    {
     "cell_type": "code",
     "collapsed": false,
     "input": [
      "import paramiko as pmk\n",
      "import re\n",
      "ssh = pmk.SSHClient()\n",
      "ssh.set_missing_host_key_policy(pmk.AutoAddPolicy())\n",
      "ssh.connect(\"192.168.5.64\",username=\"\",password=\"\")\n",
      "ssh.exec_command(\"mkdir mydear\")\n",
      "sftp = ssh.open_sftp()\n",
      "sftp.put(\"local.py\",\"./mydear/local.py\")\n",
      "ssh.exec_command(\"python ./mydear/local.py\")\n",
      "stdin,stdout,stderr=ssh.exec_command(\"ls -l\")\n",
      "print ssh.exec_command(\"ls -l\")\n",
      "print stdout.readlines()\n",
      "\n",
      "\n",
      "pwd = \"echo pwd| sudo -S\"\n",
      "stdin,stdout,stderr = ssh.exec_command(\"echo pwd| sudo -S ls /proc\")\n",
      "data = stdout.read()\n",
      "ls_folders=re.findall(\".+[a-z]$\",data,re.M)\n",
      "f = open(\"System information.txt\",'w')\n",
      "try:\n",
      "\tfor folder in ls_folders:\n",
      "\t\tmessage=\"\"\"\n",
      "\t\t\t\t..................................................................\n",
      "\t\t\t\t\t\t\t\t\t{0}:Information\n",
      "\t\t\t\t..................................................................\n",
      "\t\t\t\t\"\"\".format(folder)\n",
      "\t\tstdin,stdout,stderr  = ssh.exec_command(\"{0} cat /proc/{1}\".format(pwd,folder))\n",
      "\t\tf.write(message+\"\\n\")\n",
      "\t\tf.writelines(stdout.readlines())\n",
      "\t\tprint \"written {0} folder info\".format(folder)\n",
      "except Exception as err:\n",
      "\tprint err\n",
      "finally:\n",
      "\tf.close()\n",
      "\n",
      "\n",
      "ssh.close()"
     ],
     "language": "python",
     "metadata": {},
     "outputs": []
    }
   ],
   "metadata": {}
  }
 ]
}