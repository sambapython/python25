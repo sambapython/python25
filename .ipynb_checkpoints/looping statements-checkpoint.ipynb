{
 "cells": [
  {
   "cell_type": "code",
   "execution_count": 1,
   "metadata": {
    "collapsed": true
   },
   "outputs": [],
   "source": [
    "# for and while"
   ]
  },
  {
   "cell_type": "code",
   "execution_count": null,
   "metadata": {
    "collapsed": true
   },
   "outputs": [],
   "source": [
    "print \"program started\"\n",
    "i=0\n",
    "while i<10:\n",
    "    print \"iteration started\"\n",
    "    print i\n",
    "    print \"iteration ended\"\n",
    "print \"othere statements in program\"\n",
    "print \"program ended\""
   ]
  },
  {
   "cell_type": "code",
   "execution_count": 2,
   "metadata": {
    "collapsed": false
   },
   "outputs": [
    {
     "name": "stdout",
     "output_type": "stream",
     "text": [
      "program started\n",
      "iteration started\n",
      "0\n",
      "iteration ended\n",
      "iteration started\n",
      "1\n",
      "iteration ended\n",
      "othere statements in program\n",
      "program ended\n"
     ]
    }
   ],
   "source": [
    "print \"program started\"\n",
    "i=0\n",
    "while i<2:\n",
    "    print \"iteration started\"\n",
    "    print i\n",
    "    i = i+1\n",
    "    print \"iteration ended\"\n",
    "print \"othere statements in program\"\n",
    "print \"program ended\""
   ]
  },
  {
   "cell_type": "code",
   "execution_count": 3,
   "metadata": {
    "collapsed": false
   },
   "outputs": [
    {
     "name": "stdout",
     "output_type": "stream",
     "text": [
      "program started\n",
      "othere statements in program\n",
      "program ended\n"
     ]
    }
   ],
   "source": [
    "print \"program started\"\n",
    "i=10\n",
    "while i<2:\n",
    "    print \"iteration started\"\n",
    "    print i\n",
    "    i = i+1\n",
    "    print \"iteration ended\"\n",
    "print \"othere statements in program\"\n",
    "print \"program ended\""
   ]
  },
  {
   "cell_type": "code",
   "execution_count": 4,
   "metadata": {
    "collapsed": false
   },
   "outputs": [
    {
     "name": "stdout",
     "output_type": "stream",
     "text": [
      "program started\n",
      "iteration started\n",
      "a\n",
      "iteration ended\n",
      "iteration started\n",
      "b\n",
      "iteration ended\n",
      "iteration started\n",
      "c\n",
      "iteration ended\n",
      "other statements in program\n",
      "program ended\n"
     ]
    }
   ],
   "source": [
    "#for init cond inc/dec\n",
    "print \"program started\"\n",
    "for i in \"abc\":\n",
    "    print \"iteration started\"\n",
    "    print i\n",
    "    print \"iteration ended\"\n",
    "print \"other statements in program\"\n",
    "print \"program ended\""
   ]
  },
  {
   "cell_type": "code",
   "execution_count": 5,
   "metadata": {
    "collapsed": false
   },
   "outputs": [
    {
     "name": "stdout",
     "output_type": "stream",
     "text": [
      "p\n",
      "y\n",
      "t\n",
      "h\n",
      "o\n",
      "n\n",
      " \n",
      "p\n",
      "r\n",
      "o\n",
      "g\n",
      "r\n",
      "a\n",
      "m\n"
     ]
    }
   ],
   "source": [
    "s=\"python program\"\n",
    "i=0\n",
    "while i<len(s):\n",
    "    print s[i]\n",
    "    i=i+1"
   ]
  },
  {
   "cell_type": "code",
   "execution_count": 7,
   "metadata": {
    "collapsed": false
   },
   "outputs": [
    {
     "name": "stdout",
     "output_type": "stream",
     "text": [
      "p\n",
      "y\n",
      "t\n",
      "h\n",
      "o\n",
      "n\n",
      " \n",
      "got the space\n",
      "p\n",
      "r\n",
      "o\n",
      "g\n",
      "r\n",
      "a\n",
      "m\n"
     ]
    }
   ],
   "source": [
    "s=\"python program\"\n",
    "i=0\n",
    "while i<len(s):\n",
    "    print s[i]\n",
    "    if s[i]==\" \":\n",
    "        print \"got the space\"\n",
    "    i=i+1"
   ]
  },
  {
   "cell_type": "code",
   "execution_count": 8,
   "metadata": {
    "collapsed": false
   },
   "outputs": [
    {
     "data": {
      "text/plain": [
       "'p'"
      ]
     },
     "execution_count": 8,
     "metadata": {},
     "output_type": "execute_result"
    }
   ],
   "source": [
    "s[0]"
   ]
  },
  {
   "cell_type": "code",
   "execution_count": 9,
   "metadata": {
    "collapsed": false
   },
   "outputs": [
    {
     "data": {
      "text/plain": [
       "'y'"
      ]
     },
     "execution_count": 9,
     "metadata": {},
     "output_type": "execute_result"
    }
   ],
   "source": [
    "s[1]"
   ]
  },
  {
   "cell_type": "code",
   "execution_count": 10,
   "metadata": {
    "collapsed": false
   },
   "outputs": [
    {
     "name": "stdout",
     "output_type": "stream",
     "text": [
      "p\n",
      "y\n",
      "t\n",
      "h\n",
      "o\n",
      "n\n",
      " \n",
      "got the space\n",
      "p\n",
      "r\n",
      "o\n",
      "g\n",
      "r\n",
      "a\n",
      "m\n"
     ]
    }
   ],
   "source": [
    "s=\"python program\"\n",
    "for i in s:\n",
    "    print i\n",
    "    if i==\" \":\n",
    "        print \"got the space\""
   ]
  },
  {
   "cell_type": "code",
   "execution_count": null,
   "metadata": {
    "collapsed": true
   },
   "outputs": [],
   "source": [
    "s=\"python program\"\n",
    "i=0\n",
    "while i<len(s):\n",
    "    print s[i]\n",
    "    if s[i]==\" \":\n",
    "        print \"got the space\"\n",
    "    i=i+1"
   ]
  },
  {
   "cell_type": "code",
   "execution_count": 11,
   "metadata": {
    "collapsed": false
   },
   "outputs": [
    {
     "name": "stdout",
     "output_type": "stream",
     "text": [
      "program started\n",
      "iteration started\n",
      "iteration ended\n",
      "iteration started\n",
      "iteration ended\n",
      "iteration started\n",
      "iteration ended\n",
      "iteration started\n",
      "iteration ended\n",
      "iteration started\n",
      "iteration ended\n",
      "iteration started\n",
      "iteration ended\n",
      "iteration started\n",
      "Got the space\n",
      "iteration ended\n",
      "iteration started\n",
      "iteration ended\n",
      "iteration started\n",
      "iteration ended\n",
      "iteration started\n",
      "iteration ended\n",
      "iteration started\n",
      "iteration ended\n",
      "iteration started\n",
      "iteration ended\n",
      "iteration started\n",
      "iteration ended\n",
      "iteration started\n",
      "iteration ended\n",
      "other statements in program\n",
      "program ended\n"
     ]
    }
   ],
   "source": [
    "#for init cond inc/dec\n",
    "print \"program started\"\n",
    "s=\"python program\"\n",
    "for i in s:\n",
    "    print \"iteration started\"\n",
    "    if i==\" \":\n",
    "        print \"Got the space\"\n",
    "    print \"iteration ended\"\n",
    "print \"other statements in program\"\n",
    "print \"program ended\""
   ]
  },
  {
   "cell_type": "code",
   "execution_count": 12,
   "metadata": {
    "collapsed": false
   },
   "outputs": [
    {
     "name": "stdout",
     "output_type": "stream",
     "text": [
      "program started\n",
      "iteration started\n",
      "iteration ended\n",
      "iteration started\n",
      "Got the space\n",
      "iteration ended\n",
      "iteration started\n",
      "iteration ended\n",
      "other statements in program\n",
      "program ended\n"
     ]
    }
   ],
   "source": [
    "#for init cond inc/dec\n",
    "print \"program started\"\n",
    "s=\"python program\"\n",
    "for i in \"a b\":\n",
    "    print \"iteration started\"\n",
    "    if i==\" \":\n",
    "        print \"Got the space\"\n",
    "    print \"iteration ended\"\n",
    "print \"other statements in program\"\n",
    "print \"program ended\""
   ]
  },
  {
   "cell_type": "code",
   "execution_count": 13,
   "metadata": {
    "collapsed": false
   },
   "outputs": [
    {
     "name": "stdout",
     "output_type": "stream",
     "text": [
      "hello world\n",
      "hello world\n",
      "hello world\n",
      "hello world\n",
      "hello world\n",
      "hello world\n",
      "hello world\n",
      "hello world\n",
      "hello world\n",
      "hello world\n"
     ]
    }
   ],
   "source": [
    "for i in \"1234567890\":\n",
    "    print \"hello world\""
   ]
  },
  {
   "cell_type": "code",
   "execution_count": 14,
   "metadata": {
    "collapsed": true
   },
   "outputs": [],
   "source": [
    "s=\"abc\""
   ]
  },
  {
   "cell_type": "code",
   "execution_count": 15,
   "metadata": {
    "collapsed": false
   },
   "outputs": [
    {
     "data": {
      "text/plain": [
       "3"
      ]
     },
     "execution_count": 15,
     "metadata": {},
     "output_type": "execute_result"
    }
   ],
   "source": [
    "len(s)"
   ]
  },
  {
   "cell_type": "code",
   "execution_count": 16,
   "metadata": {
    "collapsed": false
   },
   "outputs": [
    {
     "ename": "IndexError",
     "evalue": "string index out of range",
     "output_type": "error",
     "traceback": [
      "\u001b[1;31m---------------------------------------------------------------------------\u001b[0m",
      "\u001b[1;31mIndexError\u001b[0m                                Traceback (most recent call last)",
      "\u001b[1;32m<ipython-input-16-f54ef169b208>\u001b[0m in \u001b[0;36m<module>\u001b[1;34m()\u001b[0m\n\u001b[1;32m----> 1\u001b[1;33m \u001b[0ms\u001b[0m\u001b[1;33m[\u001b[0m\u001b[1;36m3\u001b[0m\u001b[1;33m]\u001b[0m\u001b[1;33m\u001b[0m\u001b[0m\n\u001b[0m",
      "\u001b[1;31mIndexError\u001b[0m: string index out of range"
     ]
    }
   ],
   "source": [
    "s[3]"
   ]
  },
  {
   "cell_type": "code",
   "execution_count": null,
   "metadata": {
    "collapsed": true
   },
   "outputs": [],
   "source": [
    "i=0\n",
    "while i<100:\n",
    "    print \"hello world\"\n",
    "    i=i+1\n",
    "    \n",
    "for i in range(100):\n",
    "    print i"
   ]
  },
  {
   "cell_type": "code",
   "execution_count": 18,
   "metadata": {
    "collapsed": false
   },
   "outputs": [
    {
     "name": "stdout",
     "output_type": "stream",
     "text": [
      "program started\n",
      "a\n",
      "b\n",
      "c\n",
      "other statements in program\n",
      "program ended\n"
     ]
    }
   ],
   "source": [
    "#for init cond inc/dec\n",
    "print \"program started\"\n",
    "s=\"abc\"\n",
    "for k in s:\n",
    "    print k\n",
    "print \"other statements in program\"\n",
    "print \"program ended\""
   ]
  },
  {
   "cell_type": "code",
   "execution_count": 21,
   "metadata": {
    "collapsed": false
   },
   "outputs": [
    {
     "name": "stdout",
     "output_type": "stream",
     "text": [
      "program started\n",
      "a\n",
      "b\n",
      "c\n",
      "other statements in program\n",
      "program ended\n"
     ]
    }
   ],
   "source": [
    "#for init cond inc/dec\n",
    "print \"program started\"\n",
    "s=\"abc\"\n",
    "for k in s:\n",
    "    print k\n",
    "    s=s.replace(\"c\",'')\n",
    "print \"other statements in program\"\n",
    "print \"program ended\""
   ]
  },
  {
   "cell_type": "code",
   "execution_count": 22,
   "metadata": {
    "collapsed": false
   },
   "outputs": [
    {
     "name": "stdout",
     "output_type": "stream",
     "text": [
      "program started\n",
      "a\n",
      "b\n",
      "c\n",
      "other statements in program\n",
      "program ended\n"
     ]
    }
   ],
   "source": [
    "#for init cond inc/dec\n",
    "print \"program started\"\n",
    "s=['a','b','c']\n",
    "for k in s:\n",
    "    print k\n",
    "    s=['a','b']\n",
    "print \"other statements in program\"\n",
    "print \"program ended\""
   ]
  },
  {
   "cell_type": "code",
   "execution_count": 23,
   "metadata": {
    "collapsed": true
   },
   "outputs": [],
   "source": [
    "# looping control statments"
   ]
  },
  {
   "cell_type": "code",
   "execution_count": 24,
   "metadata": {
    "collapsed": false
   },
   "outputs": [
    {
     "name": "stdout",
     "output_type": "stream",
     "text": [
      "program started\n",
      "a\n",
      "b\n",
      "c\n",
      "other statements in program\n",
      "program ended\n"
     ]
    }
   ],
   "source": [
    "#for init cond inc/dec\n",
    "print \"program started\"\n",
    "s=\"abc\"\n",
    "for k in s:\n",
    "    print k\n",
    "    s=\"abcd\"\n",
    "print \"other statements in program\"\n",
    "print \"program ended\""
   ]
  },
  {
   "cell_type": "code",
   "execution_count": 25,
   "metadata": {
    "collapsed": false
   },
   "outputs": [
    {
     "name": "stdout",
     "output_type": "stream",
     "text": [
      "program started\n",
      "a\n",
      "b\n",
      "c\n",
      "other statements in program\n",
      "program ended\n"
     ]
    }
   ],
   "source": [
    "#for init cond inc/dec\n",
    "print \"program started\"\n",
    "s=\"abc\"\n",
    "for k in s:\n",
    "    s=\"abcd\"\n",
    "    print k\n",
    "    \n",
    "print \"other statements in program\"\n",
    "print \"program ended\""
   ]
  },
  {
   "cell_type": "code",
   "execution_count": 26,
   "metadata": {
    "collapsed": false
   },
   "outputs": [
    {
     "name": "stdout",
     "output_type": "stream",
     "text": [
      "program started\n",
      "a\n",
      "b\n",
      "c\n",
      "other statements in program\n",
      "program ended\n"
     ]
    }
   ],
   "source": [
    "# break and continue\n",
    "#for init cond inc/dec\n",
    "print \"program started\"\n",
    "s=\"abc\"\n",
    "for k in s:\n",
    "    s=\"abcd\"\n",
    "    print k\n",
    "    \n",
    "print \"other statements in program\"\n",
    "print \"program ended\""
   ]
  },
  {
   "cell_type": "code",
   "execution_count": 27,
   "metadata": {
    "collapsed": true
   },
   "outputs": [],
   "source": [
    "# break and continue"
   ]
  },
  {
   "cell_type": "code",
   "execution_count": 28,
   "metadata": {
    "collapsed": false
   },
   "outputs": [
    {
     "name": "stdout",
     "output_type": "stream",
     "text": [
      "Enter a string:10\n",
      "10 <type 'str'>\n"
     ]
    }
   ],
   "source": [
    "s=raw_input(\"Enter a string:\")\n",
    "print s, type(s)\n"
   ]
  },
  {
   "cell_type": "code",
   "execution_count": 29,
   "metadata": {
    "collapsed": false
   },
   "outputs": [
    {
     "name": "stdout",
     "output_type": "stream",
     "text": [
      "Enter a string:python\n",
      "python <type 'str'>\n"
     ]
    }
   ],
   "source": [
    "\n",
    "\n",
    "s=raw_input(\"Enter a string:\")\n",
    "print s, type(s)\n"
   ]
  },
  {
   "cell_type": "code",
   "execution_count": 30,
   "metadata": {
    "collapsed": false
   },
   "outputs": [
    {
     "name": "stdout",
     "output_type": "stream",
     "text": [
      "Enter a string:[1,2,3,4]\n",
      "[1,2,3,4] <type 'str'>\n"
     ]
    }
   ],
   "source": [
    "\n",
    "\n",
    "s=raw_input(\"Enter a string:\")\n",
    "print s, type(s)\n"
   ]
  },
  {
   "cell_type": "code",
   "execution_count": 31,
   "metadata": {
    "collapsed": false
   },
   "outputs": [
    {
     "name": "stdout",
     "output_type": "stream",
     "text": [
      "Enter a string:10\n",
      "10 <type 'int'>\n"
     ]
    }
   ],
   "source": [
    "s=input(\"Enter a string:\")\n",
    "print s, type(s)\n"
   ]
  },
  {
   "cell_type": "code",
   "execution_count": 32,
   "metadata": {
    "collapsed": false
   },
   "outputs": [
    {
     "name": "stdout",
     "output_type": "stream",
     "text": [
      "Enter a string:\"pythn\"\n",
      "pythn <type 'str'>\n"
     ]
    }
   ],
   "source": [
    "s=input(\"Enter a string:\")\n",
    "print s, type(s)\n"
   ]
  },
  {
   "cell_type": "code",
   "execution_count": 33,
   "metadata": {
    "collapsed": false
   },
   "outputs": [
    {
     "name": "stdout",
     "output_type": "stream",
     "text": [
      "Enter a string:[1,2,3,4]\n",
      "[1, 2, 3, 4] <type 'list'>\n"
     ]
    }
   ],
   "source": [
    "s=input(\"Enter a string:\")\n",
    "print s, type(s)\n"
   ]
  },
  {
   "cell_type": "code",
   "execution_count": 34,
   "metadata": {
    "collapsed": false
   },
   "outputs": [
    {
     "name": "stdout",
     "output_type": "stream",
     "text": [
      "program started\n",
      "Enter string:a b c\n",
      "iteration started\n",
      "a\n",
      "iteration ended\n",
      "iteration started\n",
      " \n",
      "other statements in program\n",
      "program ended\n"
     ]
    }
   ],
   "source": [
    "# break and continue\n",
    "\n",
    "print \"program started\"\n",
    "s=raw_input(\"Enter string:\")\n",
    "for k in s:\n",
    "    print \"iteration started\"\n",
    "    print k\n",
    "    if k== \" \":\n",
    "        break\n",
    "    print \"iteration ended\"\n",
    "    \n",
    "print \"other statements in program\"\n",
    "print \"program ended\""
   ]
  },
  {
   "cell_type": "code",
   "execution_count": 35,
   "metadata": {
    "collapsed": false
   },
   "outputs": [
    {
     "name": "stdout",
     "output_type": "stream",
     "text": [
      "program started\n",
      "Enter string:a b c\n",
      "iteration started\n",
      "a\n",
      "iteration ended\n",
      "iteration started\n",
      " \n",
      "other statements in program\n",
      "program ended\n"
     ]
    }
   ],
   "source": [
    "# break and continue\n",
    "\n",
    "print \"program started\"\n",
    "s=raw_input(\"Enter string:\")\n",
    "for k in s:\n",
    "    print \"iteration started\"\n",
    "    print k\n",
    "    if k== \" \":\n",
    "        break\n",
    "    print \"iteration ended\"\n",
    "    \n",
    "print \"other statements in program\"\n",
    "print \"program ended\""
   ]
  },
  {
   "cell_type": "code",
   "execution_count": 40,
   "metadata": {
    "collapsed": false
   },
   "outputs": [
    {
     "name": "stdout",
     "output_type": "stream",
     "text": [
      "program started\n",
      "Enter string:abc\n",
      "k= a\n",
      "j= a\n",
      "j= b\n",
      "j= c\n",
      "k= b\n",
      "j= a\n",
      "j= b\n",
      "j= c\n",
      "k= c\n",
      "j= a\n",
      "j= b\n",
      "j= c\n",
      "other statements in program\n",
      "program ended\n"
     ]
    }
   ],
   "source": [
    "# break and continue\n",
    "\n",
    "print \"program started\"\n",
    "s=raw_input(\"Enter string:\")\n",
    "for k in s:\n",
    "    print \"k=\",k\n",
    "    # %%%%%%%%%%%%%%%%%%%%%%%%%%%%%%\n",
    "    for j in s:\n",
    "        print \"j=\",j\n",
    "    \n",
    "    \n",
    "print \"other statements in program\"\n",
    "print \"program ended\""
   ]
  },
  {
   "cell_type": "code",
   "execution_count": 39,
   "metadata": {
    "collapsed": false
   },
   "outputs": [
    {
     "name": "stdout",
     "output_type": "stream",
     "text": [
      "program started\n",
      "Enter string:abc\n",
      "k= a\n",
      "j= a\n",
      "k= b\n",
      "j= a\n",
      "k= c\n",
      "j= a\n",
      "other statements in program\n",
      "program ended\n"
     ]
    }
   ],
   "source": [
    "# break and continue\n",
    "\n",
    "print \"program started\"\n",
    "s=raw_input(\"Enter string:\")\n",
    "for k in s:\n",
    "    print \"k=\",k\n",
    "    for j in s:\n",
    "        if j==\"b\":\n",
    "            break\n",
    "        print \"j=\",j\n",
    "    \n",
    "    \n",
    "print \"other statements in program\"\n",
    "print \"program ended\""
   ]
  },
  {
   "cell_type": "code",
   "execution_count": 41,
   "metadata": {
    "collapsed": false
   },
   "outputs": [
    {
     "name": "stdout",
     "output_type": "stream",
     "text": [
      "program started\n",
      "Enter string:python\n",
      "p\n",
      "other statements in program\n",
      "program ended\n"
     ]
    }
   ],
   "source": [
    "\n",
    "# break and continue\n",
    "\n",
    "print \"program started\"\n",
    "s=raw_input(\"Enter string:\")\n",
    "for k in s:\n",
    "    print k\n",
    "    break\n",
    "print \"other statements in program\"\n",
    "print \"program ended\""
   ]
  },
  {
   "cell_type": "code",
   "execution_count": 42,
   "metadata": {
    "collapsed": false
   },
   "outputs": [
    {
     "name": "stdout",
     "output_type": "stream",
     "text": [
      "program started\n",
      "Enter string:python\n",
      "p\n",
      "y\n",
      "t\n",
      "h\n",
      "o\n",
      "n\n",
      "other statements in program\n",
      "program ended\n"
     ]
    }
   ],
   "source": [
    "\n",
    "# break and continue\n",
    "\n",
    "print \"program started\"\n",
    "s=raw_input(\"Enter string:\")\n",
    "for k in s:\n",
    "    print k\n",
    "\n",
    "print \"other statements in program\"\n",
    "print \"program ended\""
   ]
  },
  {
   "cell_type": "code",
   "execution_count": 43,
   "metadata": {
    "collapsed": false
   },
   "outputs": [
    {
     "name": "stdout",
     "output_type": "stream",
     "text": [
      "0\n",
      "1\n",
      "2\n",
      "3\n",
      "4\n"
     ]
    }
   ],
   "source": [
    "i=0\n",
    "while i<10:\n",
    "    if i==5:\n",
    "        break\n",
    "    print i\n",
    "    i=i+1\n",
    "    "
   ]
  },
  {
   "cell_type": "code",
   "execution_count": 44,
   "metadata": {
    "collapsed": false
   },
   "outputs": [
    {
     "name": "stdout",
     "output_type": "stream",
     "text": [
      "10\n"
     ]
    }
   ],
   "source": [
    "i=0\n",
    "\n",
    "while i<10:\n",
    "    i=i+1   \n",
    "print i"
   ]
  },
  {
   "cell_type": "code",
   "execution_count": 45,
   "metadata": {
    "collapsed": false
   },
   "outputs": [
    {
     "name": "stdout",
     "output_type": "stream",
     "text": [
      "1\n"
     ]
    }
   ],
   "source": [
    "i=0\n",
    "while i<10:\n",
    "    i=i+1\n",
    "    break\n",
    "print i"
   ]
  },
  {
   "cell_type": "code",
   "execution_count": 46,
   "metadata": {
    "collapsed": false
   },
   "outputs": [
    {
     "name": "stdout",
     "output_type": "stream",
     "text": [
      "0\n"
     ]
    }
   ],
   "source": [
    "i=0\n",
    "while i<10:\n",
    "    break\n",
    "    i=i+1\n",
    "print i"
   ]
  },
  {
   "cell_type": "code",
   "execution_count": 48,
   "metadata": {
    "collapsed": false
   },
   "outputs": [
    {
     "name": "stdout",
     "output_type": "stream",
     "text": [
      "Enter a:10\n",
      "Enter b:3\n"
     ]
    }
   ],
   "source": [
    "a=input(\"Enter a:\")\n",
    "b=input(\"Enter b:\")\n",
    "if a<b:\n",
    "    print \" a is small\"\n",
    "    "
   ]
  },
  {
   "cell_type": "code",
   "execution_count": 49,
   "metadata": {
    "collapsed": false
   },
   "outputs": [
    {
     "ename": "IndentationError",
     "evalue": "expected an indented block (<ipython-input-49-3989330e5afa>, line 5)",
     "output_type": "error",
     "traceback": [
      "\u001b[1;36m  File \u001b[1;32m\"<ipython-input-49-3989330e5afa>\"\u001b[1;36m, line \u001b[1;32m5\u001b[0m\n\u001b[1;33m    else:\u001b[0m\n\u001b[1;37m         ^\u001b[0m\n\u001b[1;31mIndentationError\u001b[0m\u001b[1;31m:\u001b[0m expected an indented block\n"
     ]
    }
   ],
   "source": [
    "a=input(\"Enter a:\")\n",
    "b=input(\"Enter b:\")\n",
    "if a<b:\n",
    "    print \" a is small\"\n",
    "else:"
   ]
  },
  {
   "cell_type": "code",
   "execution_count": 50,
   "metadata": {
    "collapsed": false
   },
   "outputs": [
    {
     "name": "stdout",
     "output_type": "stream",
     "text": [
      "Enter a:10\n",
      "Enter b:23\n",
      " a is small\n"
     ]
    }
   ],
   "source": [
    "a=input(\"Enter a:\")\n",
    "b=input(\"Enter b:\")\n",
    "if a<b:\n",
    "    print \" a is small\"\n",
    "else:\n",
    "    pass"
   ]
  },
  {
   "cell_type": "code",
   "execution_count": 51,
   "metadata": {
    "collapsed": false
   },
   "outputs": [
    {
     "name": "stdout",
     "output_type": "stream",
     "text": [
      "Enter a:12\n",
      "Enter b:34\n"
     ]
    },
    {
     "ename": "SyntaxError",
     "evalue": "'break' outside loop (<ipython-input-51-ad21943b9288>, line 6)",
     "output_type": "error",
     "traceback": [
      "\u001b[1;36m  File \u001b[1;32m\"<ipython-input-51-ad21943b9288>\"\u001b[1;36m, line \u001b[1;32m6\u001b[0m\n\u001b[1;33m    break\u001b[0m\n\u001b[1;31mSyntaxError\u001b[0m\u001b[1;31m:\u001b[0m 'break' outside loop\n"
     ]
    }
   ],
   "source": [
    "a=input(\"Enter a:\")\n",
    "b=input(\"Enter b:\")\n",
    "if a<b:\n",
    "    print \" a is small\"\n",
    "else:\n",
    "    break"
   ]
  },
  {
   "cell_type": "code",
   "execution_count": 52,
   "metadata": {
    "collapsed": false
   },
   "outputs": [
    {
     "name": "stdout",
     "output_type": "stream",
     "text": [
      "n\n"
     ]
    }
   ],
   "source": [
    "for i in \"python\":\n",
    "    pass\n",
    "print i"
   ]
  },
  {
   "cell_type": "code",
   "execution_count": 53,
   "metadata": {
    "collapsed": false
   },
   "outputs": [
    {
     "name": "stdout",
     "output_type": "stream",
     "text": [
      "p\n"
     ]
    }
   ],
   "source": [
    "for i in \"python\":\n",
    "    break\n",
    "print i"
   ]
  },
  {
   "cell_type": "code",
   "execution_count": 54,
   "metadata": {
    "collapsed": false
   },
   "outputs": [
    {
     "name": "stdout",
     "output_type": "stream",
     "text": [
      "10\n"
     ]
    }
   ],
   "source": [
    "# continue\n",
    "i=0\n",
    "while i<10:\n",
    "    i=i+1\n",
    "    continue\n",
    "print i"
   ]
  },
  {
   "cell_type": "code",
   "execution_count": 55,
   "metadata": {
    "collapsed": false
   },
   "outputs": [
    {
     "name": "stdout",
     "output_type": "stream",
     "text": [
      "10\n"
     ]
    }
   ],
   "source": [
    "# continue\n",
    "i=0\n",
    "while i<10:\n",
    "    i=i+1\n",
    "print i"
   ]
  },
  {
   "cell_type": "code",
   "execution_count": 56,
   "metadata": {
    "collapsed": false
   },
   "outputs": [
    {
     "name": "stdout",
     "output_type": "stream",
     "text": [
      "1\n",
      "2\n",
      "3\n",
      "4\n",
      "5\n",
      "6\n",
      "7\n",
      "8\n",
      "9\n",
      "10\n",
      "10\n"
     ]
    }
   ],
   "source": [
    "# continue\n",
    "i=0\n",
    "while i<10:\n",
    "    i=i+1\n",
    "    print i\n",
    "print i"
   ]
  },
  {
   "cell_type": "code",
   "execution_count": 57,
   "metadata": {
    "collapsed": false
   },
   "outputs": [
    {
     "name": "stdout",
     "output_type": "stream",
     "text": [
      "10\n"
     ]
    }
   ],
   "source": [
    "# continue\n",
    "i=0\n",
    "while i<10:\n",
    "    i=i+1\n",
    "    continue\n",
    "    print i\n",
    "print i"
   ]
  },
  {
   "cell_type": "code",
   "execution_count": 58,
   "metadata": {
    "collapsed": false
   },
   "outputs": [
    {
     "name": "stdout",
     "output_type": "stream",
     "text": [
      "1\n"
     ]
    }
   ],
   "source": [
    "# continue\n",
    "i=0\n",
    "while i<10:\n",
    "    i=i+1\n",
    "    break\n",
    "    print i\n",
    "print i"
   ]
  },
  {
   "cell_type": "code",
   "execution_count": 60,
   "metadata": {
    "collapsed": false
   },
   "outputs": [
    {
     "name": "stdout",
     "output_type": "stream",
     "text": [
      "2\n",
      "3\n"
     ]
    }
   ],
   "source": [
    "# continue\n",
    "i=0\n",
    "while i<3:\n",
    "    i=i+1\n",
    "    if i==1:\n",
    "        continue\n",
    "    print i\n"
   ]
  },
  {
   "cell_type": "code",
   "execution_count": 62,
   "metadata": {
    "collapsed": false
   },
   "outputs": [
    {
     "name": "stdout",
     "output_type": "stream",
     "text": [
      "enter the value of number:12\n",
      " the number is even\n"
     ]
    }
   ],
   "source": [
    "n = input(\"enter the value of number:\")\n",
    "if isinstance(n,float) or isinstance(n,int):\n",
    "    res = n%2\n",
    "\n",
    "    if res==0:\n",
    "        print (\" the number is even\")\n",
    "    elif res==1:\n",
    "        print (\" the number is odd\")\n",
    "    else :\n",
    "        print (\" enter valid number\")\n",
    "else:\n",
    "    print \"invalid input\""
   ]
  },
  {
   "cell_type": "code",
   "execution_count": 63,
   "metadata": {
    "collapsed": false
   },
   "outputs": [
    {
     "name": "stdout",
     "output_type": "stream",
     "text": [
      "enter the value of number:\"python\"\n",
      "invalid input\n"
     ]
    }
   ],
   "source": [
    "n = input(\"enter the value of number:\")\n",
    "if isinstance(n,float) or isinstance(n,int):\n",
    "    res = n%2\n",
    "\n",
    "    if res==0:\n",
    "        print (\" the number is even\")\n",
    "    elif res==1:\n",
    "        print (\" the number is odd\")\n",
    "    else :\n",
    "        print (\" enter valid number\")\n",
    "else:\n",
    "    print \"invalid input\""
   ]
  },
  {
   "cell_type": "code",
   "execution_count": null,
   "metadata": {
    "collapsed": true
   },
   "outputs": [],
   "source": []
  }
 ],
 "metadata": {
  "kernelspec": {
   "display_name": "Python 2",
   "language": "python",
   "name": "python2"
  },
  "language_info": {
   "codemirror_mode": {
    "name": "ipython",
    "version": 2
   },
   "file_extension": ".py",
   "mimetype": "text/x-python",
   "name": "python",
   "nbconvert_exporter": "python",
   "pygments_lexer": "ipython2",
   "version": "2.7.11"
  }
 },
 "nbformat": 4,
 "nbformat_minor": 0
}
