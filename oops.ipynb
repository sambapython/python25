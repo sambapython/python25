{
 "metadata": {
  "name": "",
  "signature": "sha256:6074ac2236ad6bb0b053a0585d150ee4256cff2e7ab87388c140bacef6233775"
 },
 "nbformat": 3,
 "nbformat_minor": 0,
 "worksheets": [
  {
   "cells": [
    {
     "cell_type": "code",
     "collapsed": false,
     "input": [
      "l1=[1,2,3,4]\n",
      "l2=[4,5,6]\n",
      "l1+l2"
     ],
     "language": "python",
     "metadata": {},
     "outputs": [
      {
       "metadata": {},
       "output_type": "pyout",
       "prompt_number": 1,
       "text": [
        "[1, 2, 3, 4, 4, 5, 6]"
       ]
      }
     ],
     "prompt_number": 1
    },
    {
     "cell_type": "code",
     "collapsed": false,
     "input": [
      "class Emp:\n",
      "    name=\"\"\n",
      "    age=10\n",
      "    sal=20\n",
      "    def set_emp(*args):\n",
      "        print args\n",
      "        \n",
      "ashok = Emp()\n",
      "ashok.set_emp(10,20)\n",
      "# instance ashok is implicitly passing by pythoin to the instance mehod"
     ],
     "language": "python",
     "metadata": {},
     "outputs": [
      {
       "output_type": "stream",
       "stream": "stdout",
       "text": [
        "(<__main__.Emp instance at 0x7fb6042d39e0>, 10, 20)\n"
       ]
      }
     ],
     "prompt_number": 4
    },
    {
     "cell_type": "code",
     "collapsed": false,
     "input": [
      "l=[]"
     ],
     "language": "python",
     "metadata": {},
     "outputs": [],
     "prompt_number": 2
    },
    {
     "cell_type": "code",
     "collapsed": false,
     "input": [
      "def fun(*args):\n",
      "    print args\n",
      "fun(10,20)\n",
      "# observe the output inth cell and this cell"
     ],
     "language": "python",
     "metadata": {},
     "outputs": [
      {
       "output_type": "stream",
       "stream": "stdout",
       "text": [
        "(10, 20)\n"
       ]
      }
     ],
     "prompt_number": 3
    },
    {
     "cell_type": "code",
     "collapsed": false,
     "input": [
      "class Emp:\n",
      "    name=\"\"\n",
      "    age=10\n",
      "    sal=20\n",
      "    def sal_calc(*args):\n",
      "        pass\n",
      "    def set_emp(*args):\n",
      "        print \"age=\",age\n",
      "        print \"sal=\",sal\n",
      "        print args\n",
      "        \n",
      "ashok = Emp()\n",
      "ashok.set_emp(10,20)\n",
      "# it is not possible to access class attribute without an instance. that's why python passing instace implicitly\n",
      "# all class attributes and methods are bind to instance."
     ],
     "language": "python",
     "metadata": {},
     "outputs": [
      {
       "output_type": "stream",
       "stream": "stdout",
       "text": [
        "age="
       ]
      },
      {
       "ename": "NameError",
       "evalue": "global name 'age' is not defined",
       "output_type": "pyerr",
       "traceback": [
        "\u001b[0;31m---------------------------------------------------------------------------\u001b[0m\n\u001b[0;31mNameError\u001b[0m                                 Traceback (most recent call last)",
        "\u001b[0;32m<ipython-input-62-6dfd5e4cfa28>\u001b[0m in \u001b[0;36m<module>\u001b[0;34m()\u001b[0m\n\u001b[1;32m     11\u001b[0m \u001b[0;34m\u001b[0m\u001b[0m\n\u001b[1;32m     12\u001b[0m \u001b[0mashok\u001b[0m \u001b[0;34m=\u001b[0m \u001b[0mEmp\u001b[0m\u001b[0;34m(\u001b[0m\u001b[0;34m)\u001b[0m\u001b[0;34m\u001b[0m\u001b[0m\n\u001b[0;32m---> 13\u001b[0;31m \u001b[0mashok\u001b[0m\u001b[0;34m.\u001b[0m\u001b[0mset_emp\u001b[0m\u001b[0;34m(\u001b[0m\u001b[0;36m10\u001b[0m\u001b[0;34m,\u001b[0m\u001b[0;36m20\u001b[0m\u001b[0;34m)\u001b[0m\u001b[0;34m\u001b[0m\u001b[0m\n\u001b[0m\u001b[1;32m     14\u001b[0m \u001b[0;31m# it is not possible to access class attribute without an instance. that's why python passing instace implicitly\u001b[0m\u001b[0;34m\u001b[0m\u001b[0;34m\u001b[0m\u001b[0m\n\u001b[1;32m     15\u001b[0m \u001b[0;31m# all class attributes and methods are bind to instance.\u001b[0m\u001b[0;34m\u001b[0m\u001b[0;34m\u001b[0m\u001b[0m\n",
        "\u001b[0;32m<ipython-input-62-6dfd5e4cfa28>\u001b[0m in \u001b[0;36mset_emp\u001b[0;34m(*args)\u001b[0m\n\u001b[1;32m      6\u001b[0m         \u001b[0;32mpass\u001b[0m\u001b[0;34m\u001b[0m\u001b[0m\n\u001b[1;32m      7\u001b[0m     \u001b[0;32mdef\u001b[0m \u001b[0mset_emp\u001b[0m\u001b[0;34m(\u001b[0m\u001b[0;34m*\u001b[0m\u001b[0margs\u001b[0m\u001b[0;34m)\u001b[0m\u001b[0;34m:\u001b[0m\u001b[0;34m\u001b[0m\u001b[0m\n\u001b[0;32m----> 8\u001b[0;31m         \u001b[0;32mprint\u001b[0m \u001b[0;34m\"age=\"\u001b[0m\u001b[0;34m,\u001b[0m\u001b[0mage\u001b[0m\u001b[0;34m\u001b[0m\u001b[0m\n\u001b[0m\u001b[1;32m      9\u001b[0m         \u001b[0;32mprint\u001b[0m \u001b[0;34m\"sal=\"\u001b[0m\u001b[0;34m,\u001b[0m\u001b[0msal\u001b[0m\u001b[0;34m\u001b[0m\u001b[0m\n\u001b[1;32m     10\u001b[0m         \u001b[0;32mprint\u001b[0m \u001b[0margs\u001b[0m\u001b[0;34m\u001b[0m\u001b[0m\n",
        "\u001b[0;31mNameError\u001b[0m: global name 'age' is not defined"
       ]
      }
     ],
     "prompt_number": 62
    },
    {
     "cell_type": "code",
     "collapsed": false,
     "input": [
      "class Emp:\n",
      "    name=\"\"\n",
      "    age=10\n",
      "    sal=20\n",
      "    def sal_calc(*args):\n",
      "        pass\n",
      "    def set_emp(*args):\n",
      "        #print \"age=\",age\n",
      "        #print \"sal=\",sal\n",
      "        print args[0].age\n",
      "        print args[0].sal\n",
      "        print args\n",
      "        \n",
      "ashok = Emp()\n",
      "ashok.set_emp(10,20)\n",
      "# class attributes can access using instance args[0] referring an instance "
     ],
     "language": "python",
     "metadata": {},
     "outputs": [
      {
       "output_type": "stream",
       "stream": "stdout",
       "text": [
        "10\n",
        "20\n",
        "(<__main__.Emp instance at 0x7fb604112ea8>, 10, 20)\n"
       ]
      }
     ],
     "prompt_number": 7
    },
    {
     "cell_type": "code",
     "collapsed": false,
     "input": [
      "class Emp:\n",
      "    name=\"\"\n",
      "    age=10\n",
      "    sal=20\n",
      "    def sal_calc(self,*args):\n",
      "        pass\n",
      "    def set_emp(self, *args):\n",
      "        #print \"age=\",age\n",
      "        #print \"sal=\",sal\n",
      "        print self.age\n",
      "        print self.sal\n",
      "        print args\n",
      "        \n",
      "ashok = Emp()\n",
      "ashok.set_emp(10,20)\n",
      "# self is the reference name convention followed by 100% oops developers"
     ],
     "language": "python",
     "metadata": {},
     "outputs": [
      {
       "output_type": "stream",
       "stream": "stdout",
       "text": [
        "10\n",
        "20\n",
        "(10, 20)\n"
       ]
      }
     ],
     "prompt_number": 8
    },
    {
     "cell_type": "code",
     "collapsed": false,
     "input": [
      "class Emp:\n",
      "    age=20\n",
      "    def set_emp(*args):\n",
      "        print args\n",
      "ashok = Emp()\n",
      "ashok.set_emp(10,20)"
     ],
     "language": "python",
     "metadata": {},
     "outputs": [
      {
       "output_type": "stream",
       "stream": "stdout",
       "text": [
        "(<__main__.Emp instance at 0x7fb604121200>, 10, 20)\n"
       ]
      }
     ],
     "prompt_number": 9
    },
    {
     "cell_type": "code",
     "collapsed": false,
     "input": [
      "class Emp:\n",
      "    age=20\n",
      "    def set_emp(*args):\n",
      "        print age\n",
      "        print args\n",
      "ashok = Emp()\n",
      "ashok.set_emp(10,20)"
     ],
     "language": "python",
     "metadata": {},
     "outputs": [
      {
       "ename": "NameError",
       "evalue": "global name 'age' is not defined",
       "output_type": "pyerr",
       "traceback": [
        "\u001b[0;31m---------------------------------------------------------------------------\u001b[0m\n\u001b[0;31mNameError\u001b[0m                                 Traceback (most recent call last)",
        "\u001b[0;32m<ipython-input-10-a9856c57eca0>\u001b[0m in \u001b[0;36m<module>\u001b[0;34m()\u001b[0m\n\u001b[1;32m      5\u001b[0m         \u001b[0;32mprint\u001b[0m \u001b[0margs\u001b[0m\u001b[0;34m\u001b[0m\u001b[0m\n\u001b[1;32m      6\u001b[0m \u001b[0mashok\u001b[0m \u001b[0;34m=\u001b[0m \u001b[0mEmp\u001b[0m\u001b[0;34m(\u001b[0m\u001b[0;34m)\u001b[0m\u001b[0;34m\u001b[0m\u001b[0m\n\u001b[0;32m----> 7\u001b[0;31m \u001b[0mashok\u001b[0m\u001b[0;34m.\u001b[0m\u001b[0mset_emp\u001b[0m\u001b[0;34m(\u001b[0m\u001b[0;36m10\u001b[0m\u001b[0;34m,\u001b[0m\u001b[0;36m20\u001b[0m\u001b[0;34m)\u001b[0m\u001b[0;34m\u001b[0m\u001b[0m\n\u001b[0m",
        "\u001b[0;32m<ipython-input-10-a9856c57eca0>\u001b[0m in \u001b[0;36mset_emp\u001b[0;34m(*args)\u001b[0m\n\u001b[1;32m      2\u001b[0m     \u001b[0mage\u001b[0m\u001b[0;34m=\u001b[0m\u001b[0;36m20\u001b[0m\u001b[0;34m\u001b[0m\u001b[0m\n\u001b[1;32m      3\u001b[0m     \u001b[0;32mdef\u001b[0m \u001b[0mset_emp\u001b[0m\u001b[0;34m(\u001b[0m\u001b[0;34m*\u001b[0m\u001b[0margs\u001b[0m\u001b[0;34m)\u001b[0m\u001b[0;34m:\u001b[0m\u001b[0;34m\u001b[0m\u001b[0m\n\u001b[0;32m----> 4\u001b[0;31m         \u001b[0;32mprint\u001b[0m \u001b[0mage\u001b[0m\u001b[0;34m\u001b[0m\u001b[0m\n\u001b[0m\u001b[1;32m      5\u001b[0m         \u001b[0;32mprint\u001b[0m \u001b[0margs\u001b[0m\u001b[0;34m\u001b[0m\u001b[0m\n\u001b[1;32m      6\u001b[0m \u001b[0mashok\u001b[0m \u001b[0;34m=\u001b[0m \u001b[0mEmp\u001b[0m\u001b[0;34m(\u001b[0m\u001b[0;34m)\u001b[0m\u001b[0;34m\u001b[0m\u001b[0m\n",
        "\u001b[0;31mNameError\u001b[0m: global name 'age' is not defined"
       ]
      }
     ],
     "prompt_number": 10
    },
    {
     "cell_type": "code",
     "collapsed": false,
     "input": [
      "class Emp:\n",
      "    age=20\n",
      "    def oper1(*args):\n",
      "        print \"oper1\"\n",
      "    def set_emp(*args):\n",
      "        oper1()\n",
      "        print age\n",
      "        print args\n",
      "ashok = Emp()\n",
      "ashok.set_emp(10,20)"
     ],
     "language": "python",
     "metadata": {},
     "outputs": [
      {
       "ename": "NameError",
       "evalue": "global name 'oper1' is not defined",
       "output_type": "pyerr",
       "traceback": [
        "\u001b[0;31m---------------------------------------------------------------------------\u001b[0m\n\u001b[0;31mNameError\u001b[0m                                 Traceback (most recent call last)",
        "\u001b[0;32m<ipython-input-11-0f6f1be7892b>\u001b[0m in \u001b[0;36m<module>\u001b[0;34m()\u001b[0m\n\u001b[1;32m      8\u001b[0m         \u001b[0;32mprint\u001b[0m \u001b[0margs\u001b[0m\u001b[0;34m\u001b[0m\u001b[0m\n\u001b[1;32m      9\u001b[0m \u001b[0mashok\u001b[0m \u001b[0;34m=\u001b[0m \u001b[0mEmp\u001b[0m\u001b[0;34m(\u001b[0m\u001b[0;34m)\u001b[0m\u001b[0;34m\u001b[0m\u001b[0m\n\u001b[0;32m---> 10\u001b[0;31m \u001b[0mashok\u001b[0m\u001b[0;34m.\u001b[0m\u001b[0mset_emp\u001b[0m\u001b[0;34m(\u001b[0m\u001b[0;36m10\u001b[0m\u001b[0;34m,\u001b[0m\u001b[0;36m20\u001b[0m\u001b[0;34m)\u001b[0m\u001b[0;34m\u001b[0m\u001b[0m\n\u001b[0m",
        "\u001b[0;32m<ipython-input-11-0f6f1be7892b>\u001b[0m in \u001b[0;36mset_emp\u001b[0;34m(*args)\u001b[0m\n\u001b[1;32m      4\u001b[0m         \u001b[0;32mprint\u001b[0m \u001b[0;34m\"oper1\"\u001b[0m\u001b[0;34m\u001b[0m\u001b[0m\n\u001b[1;32m      5\u001b[0m     \u001b[0;32mdef\u001b[0m \u001b[0mset_emp\u001b[0m\u001b[0;34m(\u001b[0m\u001b[0;34m*\u001b[0m\u001b[0margs\u001b[0m\u001b[0;34m)\u001b[0m\u001b[0;34m:\u001b[0m\u001b[0;34m\u001b[0m\u001b[0m\n\u001b[0;32m----> 6\u001b[0;31m         \u001b[0moper1\u001b[0m\u001b[0;34m(\u001b[0m\u001b[0;34m)\u001b[0m\u001b[0;34m\u001b[0m\u001b[0m\n\u001b[0m\u001b[1;32m      7\u001b[0m         \u001b[0;32mprint\u001b[0m \u001b[0mage\u001b[0m\u001b[0;34m\u001b[0m\u001b[0m\n\u001b[1;32m      8\u001b[0m         \u001b[0;32mprint\u001b[0m \u001b[0margs\u001b[0m\u001b[0;34m\u001b[0m\u001b[0m\n",
        "\u001b[0;31mNameError\u001b[0m: global name 'oper1' is not defined"
       ]
      }
     ],
     "prompt_number": 11
    },
    {
     "cell_type": "code",
     "collapsed": false,
     "input": [
      "class Emp:\n",
      "    age=20\n",
      "    def oper1(*args):\n",
      "        print \"oper1\"\n",
      "    def set_emp(*args):\n",
      "        #oper1()\n",
      "        #print age\n",
      "        print args\n",
      "ashok = Emp()\n",
      "ashok.set_emp(10,20)"
     ],
     "language": "python",
     "metadata": {},
     "outputs": [
      {
       "output_type": "stream",
       "stream": "stdout",
       "text": [
        "(<__main__.Emp instance at 0x7fb604121518>, 10, 20)\n"
       ]
      }
     ],
     "prompt_number": 12
    },
    {
     "cell_type": "code",
     "collapsed": false,
     "input": [
      "class Emp:\n",
      "    age=20\n",
      "    def oper1(*args):\n",
      "        print \"oper1\"\n",
      "    def set_emp(*args):\n",
      "        #oper1()\n",
      "        #print age\n",
      "        print args[0]\n",
      "        print args\n",
      "ashok = Emp()\n",
      "ashok.set_emp(10,20)"
     ],
     "language": "python",
     "metadata": {},
     "outputs": [
      {
       "output_type": "stream",
       "stream": "stdout",
       "text": [
        "<__main__.Emp instance at 0x7fb604121680>\n",
        "(<__main__.Emp instance at 0x7fb604121680>, 10, 20)\n"
       ]
      }
     ],
     "prompt_number": 13
    },
    {
     "cell_type": "code",
     "collapsed": false,
     "input": [
      "class Emp:\n",
      "    age=20\n",
      "    def oper1(*args):\n",
      "        print \"oper1\"\n",
      "    def set_emp(*args):\n",
      "        #oper1()\n",
      "        #print age\n",
      "        print args[0]\n",
      "        print args[0].age\n",
      "        print args[0].oper1()\n",
      "        print args\n",
      "ashok = Emp()\n",
      "ashok.set_emp(10,20)"
     ],
     "language": "python",
     "metadata": {},
     "outputs": [
      {
       "output_type": "stream",
       "stream": "stdout",
       "text": [
        "<__main__.Emp instance at 0x7fb6041217a0>\n",
        "20\n",
        "oper1\n",
        "None\n",
        "(<__main__.Emp instance at 0x7fb6041217a0>, 10, 20)\n"
       ]
      }
     ],
     "prompt_number": 15
    },
    {
     "cell_type": "code",
     "collapsed": false,
     "input": [
      "class Emp:\n",
      "    age=20\n",
      "    def oper1(self, *args):\n",
      "        self.name=\"ashok\"\n",
      "        print \"oper1\"\n",
      "    def set_emp(self, *args):\n",
      "        #oper1()\n",
      "        #print age\n",
      "        self.oper1()\n",
      "        print self.name\n",
      "        print self\n",
      "        print self.age\n",
      "        print self.oper1()\n",
      "        print args\n",
      "ashok = Emp()\n",
      "ashok.set_emp(10,20)"
     ],
     "language": "python",
     "metadata": {},
     "outputs": [
      {
       "output_type": "stream",
       "stream": "stdout",
       "text": [
        "oper1\n",
        "ashok\n",
        "<__main__.Emp instance at 0x7fb6041211b8>\n",
        "20\n",
        "oper1\n",
        "None\n",
        "(10, 20)\n"
       ]
      }
     ],
     "prompt_number": 18
    },
    {
     "cell_type": "code",
     "collapsed": false,
     "input": [
      "def add(a,b):\n",
      "    def inner():\n",
      "        pass\n",
      "    return a+b\n",
      "\n",
      "def mul(a,b):\n",
      "    \n",
      "    return a*b\n",
      "a=20\n",
      "b=30\n",
      "print add(a,b)\n",
      "print mul(a,b)"
     ],
     "language": "python",
     "metadata": {},
     "outputs": [
      {
       "output_type": "stream",
       "stream": "stdout",
       "text": [
        "50\n",
        "600\n"
       ]
      }
     ],
     "prompt_number": 17
    },
    {
     "cell_type": "code",
     "collapsed": false,
     "input": [
      "def add(a,b):\n",
      "    return a+b\n",
      "def mul(a,b):\n",
      "    return a*b\n",
      "a=20\n",
      "b=30\n",
      "print add(a,b)\n",
      "a=40\n",
      "b=50\n",
      "print add(a,b)"
     ],
     "language": "python",
     "metadata": {},
     "outputs": [
      {
       "output_type": "stream",
       "stream": "stdout",
       "text": [
        "50\n",
        "90\n"
       ]
      }
     ],
     "prompt_number": 19
    },
    {
     "cell_type": "code",
     "collapsed": false,
     "input": [
      "class Emp:\n",
      "    def set_emp(self,name=None,age=None,sal=None):\n",
      "        self.name=name\n",
      "        self.age=age\n",
      "        self.sal=sal\n",
      "    def get_emp(self):\n",
      "        return self.name,self.age,self.sal\n",
      "ashok = Emp()\n",
      "ashok.set_emp(name=\"ashok\",age=23,sal=30)\n",
      "rama = Emp()\n",
      "rama.set_emp(name=\"RAMA\",age=27,sal=30)\n",
      "print rama.get_emp()\n",
      "print ashok.get_emp()"
     ],
     "language": "python",
     "metadata": {},
     "outputs": [
      {
       "output_type": "stream",
       "stream": "stdout",
       "text": [
        "('RAMA', 27, 30)\n",
        "('ashok', 23, 30)\n"
       ]
      }
     ],
     "prompt_number": 22
    },
    {
     "cell_type": "code",
     "collapsed": false,
     "input": [
      "class Emp:\n",
      "    def set_emp(self,name=None,age=None,sal=None):\n",
      "        self.name=name\n",
      "        self.age=age\n",
      "        self.sal=sal\n",
      "    def get_emp():\n",
      "        return self.name,self.age,self.sal\n",
      "ashok = Emp()\n",
      "ashok.set_emp(name=\"ashok\",age=23,sal=30)\n",
      "rama = Emp()\n",
      "rama.set_emp(name=\"RAMA\",age=27,sal=30)\n",
      "print rama.get_emp()\n",
      "print ashok.get_emp()"
     ],
     "language": "python",
     "metadata": {},
     "outputs": [
      {
       "ename": "TypeError",
       "evalue": "get_emp() takes no arguments (1 given)",
       "output_type": "pyerr",
       "traceback": [
        "\u001b[0;31m---------------------------------------------------------------------------\u001b[0m\n\u001b[0;31mTypeError\u001b[0m                                 Traceback (most recent call last)",
        "\u001b[0;32m<ipython-input-23-f13ec645eb56>\u001b[0m in \u001b[0;36m<module>\u001b[0;34m()\u001b[0m\n\u001b[1;32m     10\u001b[0m \u001b[0mrama\u001b[0m \u001b[0;34m=\u001b[0m \u001b[0mEmp\u001b[0m\u001b[0;34m(\u001b[0m\u001b[0;34m)\u001b[0m\u001b[0;34m\u001b[0m\u001b[0m\n\u001b[1;32m     11\u001b[0m \u001b[0mrama\u001b[0m\u001b[0;34m.\u001b[0m\u001b[0mset_emp\u001b[0m\u001b[0;34m(\u001b[0m\u001b[0mname\u001b[0m\u001b[0;34m=\u001b[0m\u001b[0;34m\"RAMA\"\u001b[0m\u001b[0;34m,\u001b[0m\u001b[0mage\u001b[0m\u001b[0;34m=\u001b[0m\u001b[0;36m27\u001b[0m\u001b[0;34m,\u001b[0m\u001b[0msal\u001b[0m\u001b[0;34m=\u001b[0m\u001b[0;36m30\u001b[0m\u001b[0;34m)\u001b[0m\u001b[0;34m\u001b[0m\u001b[0m\n\u001b[0;32m---> 12\u001b[0;31m \u001b[0;32mprint\u001b[0m \u001b[0mrama\u001b[0m\u001b[0;34m.\u001b[0m\u001b[0mget_emp\u001b[0m\u001b[0;34m(\u001b[0m\u001b[0;34m)\u001b[0m\u001b[0;34m\u001b[0m\u001b[0m\n\u001b[0m\u001b[1;32m     13\u001b[0m \u001b[0;32mprint\u001b[0m \u001b[0mashok\u001b[0m\u001b[0;34m.\u001b[0m\u001b[0mget_emp\u001b[0m\u001b[0;34m(\u001b[0m\u001b[0;34m)\u001b[0m\u001b[0;34m\u001b[0m\u001b[0m\n",
        "\u001b[0;31mTypeError\u001b[0m: get_emp() takes no arguments (1 given)"
       ]
      }
     ],
     "prompt_number": 23
    },
    {
     "cell_type": "code",
     "collapsed": false,
     "input": [
      "class Emp:\n",
      "    def set_emp(self,name=None,age=None,sal=None):\n",
      "        self.name=name\n",
      "        self.age=age\n",
      "        self.sal=sal\n",
      "    def get_emp(self):\n",
      "        return self.name,self.age,self.sal\n",
      "ashok = Emp()\n",
      "ashok.set_emp(name=\"ashok\",age=23,sal=30)\n",
      "rama = Emp()\n",
      "rama.set_emp(name=\"RAMA\",age=27,sal=30)\n",
      "print rama.get_emp()\n",
      "print ashok.get_emp()\n",
      "ashok.sal=40\n",
      "print ashok.get_emp()\n",
      "# can change the value of the class attribute using instance out side the class"
     ],
     "language": "python",
     "metadata": {},
     "outputs": [
      {
       "output_type": "stream",
       "stream": "stdout",
       "text": [
        "('RAMA', 27, 30)\n",
        "('ashok', 23, 30)\n",
        "('ashok', 23, 40)\n"
       ]
      }
     ],
     "prompt_number": 24
    },
    {
     "cell_type": "code",
     "collapsed": false,
     "input": [
      "class Emp:\n",
      "    def set_emp(self,name=None,age=None,sal=None):\n",
      "        self.name=name\n",
      "        self.age=age\n",
      "        self.sal=sal\n",
      "        self.__incper = 10\n",
      "    def __sec(self):\n",
      "        pass\n",
      "    def get_emp(self):\n",
      "        self.__sec()\n",
      "        return self.name,self.age,self.sal,self.__incper\n",
      "ashok = Emp()\n",
      "ashok.set_emp(name=\"ashok\",age=23,sal=30)\n",
      "rama = Emp()\n",
      "rama.set_emp(name=\"RAMA\",age=27,sal=30)\n",
      "print rama.get_emp()\n",
      "print ashok.get_emp()\n",
      "ashok.sal=40\n",
      "print ashok.get_emp()\n",
      "rama.__incper = 40\n",
      "print rama.get_emp()\n",
      "# you can't change the value of the secured class attributes out side the class using an instance"
     ],
     "language": "python",
     "metadata": {},
     "outputs": [
      {
       "output_type": "stream",
       "stream": "stdout",
       "text": [
        "('RAMA', 27, 30, 10)\n",
        "('ashok', 23, 30, 10)\n",
        "('ashok', 23, 40, 10)\n",
        "('RAMA', 27, 30, 10)\n"
       ]
      }
     ],
     "prompt_number": 26
    },
    {
     "cell_type": "code",
     "collapsed": false,
     "input": [
      "class Emp:\n",
      "    def set_emp(self,name=None,age=None,sal=None):\n",
      "        self.name=name\n",
      "        self.age=age\n",
      "        self.sal=sal\n",
      "        self.__incper = 10\n",
      "    def __sec(self):\n",
      "        pass\n",
      "    def get_emp(self):\n",
      "        self.__sec()\n",
      "        return self.name,self.age,self.sal,self.__incper\n",
      "ashok = Emp()\n",
      "ashok.set_emp(name=\"ashok\",age=23,sal=30)\n",
      "rama = Emp()\n",
      "rama.set_emp(name=\"RAMA\",age=27,sal=30)\n",
      "print rama.get_emp()\n",
      "print ashok.get_emp()\n",
      "ashok.sal=40\n",
      "print ashok.get_emp()\n",
      "#rama.__incper = 40\n",
      "print rama.get_emp()\n",
      "#rama.__sec()\n",
      "print rama.__incper"
     ],
     "language": "python",
     "metadata": {},
     "outputs": [
      {
       "output_type": "stream",
       "stream": "stdout",
       "text": [
        "('RAMA', 27, 30, 10)\n",
        "('ashok', 23, 30, 10)\n",
        "('ashok', 23, 40, 10)\n",
        "('RAMA', 27, 30, 10)\n"
       ]
      },
      {
       "ename": "AttributeError",
       "evalue": "Emp instance has no attribute '__incper'",
       "output_type": "pyerr",
       "traceback": [
        "\u001b[0;31m---------------------------------------------------------------------------\u001b[0m\n\u001b[0;31mAttributeError\u001b[0m                            Traceback (most recent call last)",
        "\u001b[0;32m<ipython-input-30-07699b9894b7>\u001b[0m in \u001b[0;36m<module>\u001b[0;34m()\u001b[0m\n\u001b[1;32m     21\u001b[0m \u001b[0;32mprint\u001b[0m \u001b[0mrama\u001b[0m\u001b[0;34m.\u001b[0m\u001b[0mget_emp\u001b[0m\u001b[0;34m(\u001b[0m\u001b[0;34m)\u001b[0m\u001b[0;34m\u001b[0m\u001b[0m\n\u001b[1;32m     22\u001b[0m \u001b[0;31m#rama.__sec()\u001b[0m\u001b[0;34m\u001b[0m\u001b[0;34m\u001b[0m\u001b[0m\n\u001b[0;32m---> 23\u001b[0;31m \u001b[0;32mprint\u001b[0m \u001b[0mrama\u001b[0m\u001b[0;34m.\u001b[0m\u001b[0m__incper\u001b[0m\u001b[0;34m\u001b[0m\u001b[0m\n\u001b[0m",
        "\u001b[0;31mAttributeError\u001b[0m: Emp instance has no attribute '__incper'"
       ]
      }
     ],
     "prompt_number": 30
    },
    {
     "cell_type": "code",
     "collapsed": false,
     "input": [
      "# function/method overloading"
     ],
     "language": "python",
     "metadata": {},
     "outputs": [],
     "prompt_number": 31
    },
    {
     "cell_type": "code",
     "collapsed": false,
     "input": [
      "def fun(a,b):\n",
      "    return a+b\n",
      "def fun(a,b,c):\n",
      "    return a+b+c\n",
      "print fun(10,20,30)\n",
      "print fun(20,30)\n",
      "# in python function is an object. function name is a reference. if you write two definitions with same function name\n",
      "# the first function refered to last one only"
     ],
     "language": "python",
     "metadata": {},
     "outputs": [
      {
       "output_type": "stream",
       "stream": "stdout",
       "text": [
        "60\n"
       ]
      },
      {
       "ename": "TypeError",
       "evalue": "fun() takes exactly 3 arguments (2 given)",
       "output_type": "pyerr",
       "traceback": [
        "\u001b[0;31m---------------------------------------------------------------------------\u001b[0m\n\u001b[0;31mTypeError\u001b[0m                                 Traceback (most recent call last)",
        "\u001b[0;32m<ipython-input-32-1cdfc1d8acfd>\u001b[0m in \u001b[0;36m<module>\u001b[0;34m()\u001b[0m\n\u001b[1;32m      4\u001b[0m     \u001b[0;32mreturn\u001b[0m \u001b[0ma\u001b[0m\u001b[0;34m+\u001b[0m\u001b[0mb\u001b[0m\u001b[0;34m+\u001b[0m\u001b[0mc\u001b[0m\u001b[0;34m\u001b[0m\u001b[0m\n\u001b[1;32m      5\u001b[0m \u001b[0;32mprint\u001b[0m \u001b[0mfun\u001b[0m\u001b[0;34m(\u001b[0m\u001b[0;36m10\u001b[0m\u001b[0;34m,\u001b[0m\u001b[0;36m20\u001b[0m\u001b[0;34m,\u001b[0m\u001b[0;36m30\u001b[0m\u001b[0;34m)\u001b[0m\u001b[0;34m\u001b[0m\u001b[0m\n\u001b[0;32m----> 6\u001b[0;31m \u001b[0;32mprint\u001b[0m \u001b[0mfun\u001b[0m\u001b[0;34m(\u001b[0m\u001b[0;36m20\u001b[0m\u001b[0;34m,\u001b[0m\u001b[0;36m30\u001b[0m\u001b[0;34m)\u001b[0m\u001b[0;34m\u001b[0m\u001b[0m\n\u001b[0m",
        "\u001b[0;31mTypeError\u001b[0m: fun() takes exactly 3 arguments (2 given)"
       ]
      }
     ],
     "prompt_number": 32
    },
    {
     "cell_type": "code",
     "collapsed": false,
     "input": [
      "def fun(*a):\n",
      "    return sum(a)\n",
      "print fun(10)\n",
      "print fun(10,20,30)\n",
      "print fun(10,20,30,40)\n",
      "# can achieve method overloading using *args and **kwargs"
     ],
     "language": "python",
     "metadata": {},
     "outputs": [
      {
       "output_type": "stream",
       "stream": "stdout",
       "text": [
        "10\n",
        "60\n",
        "100\n"
       ]
      }
     ],
     "prompt_number": 34
    },
    {
     "cell_type": "code",
     "collapsed": false,
     "input": [
      "class Emp:\n",
      "    def set_emp(self,**kwargs):\n",
      "        print kwargs\n",
      "        \n",
      "\n",
      "e1=Emp()\n",
      "e1.set_emp(id=1,name=\"name1\")"
     ],
     "language": "python",
     "metadata": {},
     "outputs": [
      {
       "output_type": "stream",
       "stream": "stdout",
       "text": [
        "{'id': 1, 'name': 'name1'}\n"
       ]
      }
     ],
     "prompt_number": 36
    },
    {
     "cell_type": "code",
     "collapsed": false,
     "input": [
      "class Emp:\n",
      "    def set_emp(self,**kwargs):\n",
      "        self.id = kwargs.get('id',None)\n",
      "        self.name = kwargs.get('name',None)\n",
      "        self.pan = kwargs.get('pan',None)\n",
      "        self.adhar = kwargs.get('adhar',None)\n",
      "    \n",
      "        \n",
      "\n",
      "e1=Emp()\n",
      "e1.set_emp(id=1,name=\"name1\")\n",
      "\n",
      "e2 = Emp()\n",
      "e2.set_emp(id=2,name=\"name2\",adhar=\"2141241\")\n",
      "e3=Emp()\n",
      "e3.set_emp(id=3,name=\"name3\",pan=\"234\")"
     ],
     "language": "python",
     "metadata": {},
     "outputs": [
      {
       "output_type": "stream",
       "stream": "stdout",
       "text": [
        "{'id': 1, 'name': 'name1'}\n",
        "{'adhar': '2141241', 'id': 2, 'name': 'name2'}\n",
        "{'id': 3, 'pan': '234', 'name': 'name3'}\n"
       ]
      }
     ],
     "prompt_number": 38
    },
    {
     "cell_type": "code",
     "collapsed": false,
     "input": [
      "class c1:\n",
      "    def oper1(*args):\n",
      "        pass\n",
      "o1=c1()\n",
      "o1.oper1()"
     ],
     "language": "python",
     "metadata": {},
     "outputs": [],
     "prompt_number": 39
    },
    {
     "cell_type": "code",
     "collapsed": false,
     "input": [
      "class c1:\n",
      "    def oper1(self):\n",
      "        print \"oper1 in c1\"\n",
      "class c2:\n",
      "    def oper2(self):\n",
      "        print \"oper2 in c2\"\n",
      "    def operations(self):\n",
      "        self.oper2()\n",
      "o2=c2()\n",
      "o2.operations()"
     ],
     "language": "python",
     "metadata": {},
     "outputs": [
      {
       "output_type": "stream",
       "stream": "stdout",
       "text": [
        "oper2 in c2\n"
       ]
      }
     ],
     "prompt_number": 40
    },
    {
     "cell_type": "code",
     "collapsed": false,
     "input": [
      "class c1:\n",
      "    def oper1(self):\n",
      "        print \"oper1 in c1\"\n",
      "class c2:\n",
      "    def oper2(self):\n",
      "        print \"oper2 in c2\"\n",
      "    def operations(self):\n",
      "        self.oper2()\n",
      "        self.oper1()\n",
      "o2=c2()\n",
      "o2.operations()"
     ],
     "language": "python",
     "metadata": {},
     "outputs": [
      {
       "output_type": "stream",
       "stream": "stdout",
       "text": [
        "oper2 in c2\n"
       ]
      },
      {
       "ename": "AttributeError",
       "evalue": "c2 instance has no attribute 'oper1'",
       "output_type": "pyerr",
       "traceback": [
        "\u001b[0;31m---------------------------------------------------------------------------\u001b[0m\n\u001b[0;31mAttributeError\u001b[0m                            Traceback (most recent call last)",
        "\u001b[0;32m<ipython-input-41-4b39891d4401>\u001b[0m in \u001b[0;36m<module>\u001b[0;34m()\u001b[0m\n\u001b[1;32m      9\u001b[0m         \u001b[0mself\u001b[0m\u001b[0;34m.\u001b[0m\u001b[0moper1\u001b[0m\u001b[0;34m(\u001b[0m\u001b[0;34m)\u001b[0m\u001b[0;34m\u001b[0m\u001b[0m\n\u001b[1;32m     10\u001b[0m \u001b[0mo2\u001b[0m\u001b[0;34m=\u001b[0m\u001b[0mc2\u001b[0m\u001b[0;34m(\u001b[0m\u001b[0;34m)\u001b[0m\u001b[0;34m\u001b[0m\u001b[0m\n\u001b[0;32m---> 11\u001b[0;31m \u001b[0mo2\u001b[0m\u001b[0;34m.\u001b[0m\u001b[0moperations\u001b[0m\u001b[0;34m(\u001b[0m\u001b[0;34m)\u001b[0m\u001b[0;34m\u001b[0m\u001b[0m\n\u001b[0m",
        "\u001b[0;32m<ipython-input-41-4b39891d4401>\u001b[0m in \u001b[0;36moperations\u001b[0;34m(self)\u001b[0m\n\u001b[1;32m      7\u001b[0m     \u001b[0;32mdef\u001b[0m \u001b[0moperations\u001b[0m\u001b[0;34m(\u001b[0m\u001b[0mself\u001b[0m\u001b[0;34m)\u001b[0m\u001b[0;34m:\u001b[0m\u001b[0;34m\u001b[0m\u001b[0m\n\u001b[1;32m      8\u001b[0m         \u001b[0mself\u001b[0m\u001b[0;34m.\u001b[0m\u001b[0moper2\u001b[0m\u001b[0;34m(\u001b[0m\u001b[0;34m)\u001b[0m\u001b[0;34m\u001b[0m\u001b[0m\n\u001b[0;32m----> 9\u001b[0;31m         \u001b[0mself\u001b[0m\u001b[0;34m.\u001b[0m\u001b[0moper1\u001b[0m\u001b[0;34m(\u001b[0m\u001b[0;34m)\u001b[0m\u001b[0;34m\u001b[0m\u001b[0m\n\u001b[0m\u001b[1;32m     10\u001b[0m \u001b[0mo2\u001b[0m\u001b[0;34m=\u001b[0m\u001b[0mc2\u001b[0m\u001b[0;34m(\u001b[0m\u001b[0;34m)\u001b[0m\u001b[0;34m\u001b[0m\u001b[0m\n\u001b[1;32m     11\u001b[0m \u001b[0mo2\u001b[0m\u001b[0;34m.\u001b[0m\u001b[0moperations\u001b[0m\u001b[0;34m(\u001b[0m\u001b[0;34m)\u001b[0m\u001b[0;34m\u001b[0m\u001b[0m\n",
        "\u001b[0;31mAttributeError\u001b[0m: c2 instance has no attribute 'oper1'"
       ]
      }
     ],
     "prompt_number": 41
    },
    {
     "cell_type": "code",
     "collapsed": false,
     "input": [
      "class c1:\n",
      "    def oper1(self):\n",
      "        print \"oper1 in c1\"\n",
      "class c2:\n",
      "    def oper2(self):\n",
      "        print \"oper2 in c2\"\n",
      "    def operations(self):\n",
      "        self.oper2()\n",
      "        o1=c1()\n",
      "        o1.oper1()\n",
      "o2=c2()\n",
      "o2.operations()"
     ],
     "language": "python",
     "metadata": {},
     "outputs": [
      {
       "output_type": "stream",
       "stream": "stdout",
       "text": [
        "oper2 in c2\n",
        "oper1 in c1\n"
       ]
      }
     ],
     "prompt_number": 42
    },
    {
     "cell_type": "code",
     "collapsed": false,
     "input": [
      "class c1:\n",
      "    def oper1(self):\n",
      "        print \"oper1 in c1\"\n",
      "class c2(c1):\n",
      "    def oper2(self):\n",
      "        print \"oper2 in c2\"\n",
      "    def operations(self):\n",
      "        self.oper2()\n",
      "        self.oper1()\n",
      "o2=c2()\n",
      "o2.operations()"
     ],
     "language": "python",
     "metadata": {},
     "outputs": [
      {
       "output_type": "stream",
       "stream": "stdout",
       "text": [
        "oper2 in c2\n",
        "oper1 in c1\n"
       ]
      }
     ],
     "prompt_number": 43
    },
    {
     "cell_type": "code",
     "collapsed": false,
     "input": [
      "class c1:\n",
      "    def oper1(self):\n",
      "        print \"oper1 in c1\"\n",
      "class c3:\n",
      "    def oper3(self):\n",
      "        print \"oper3 in c3\"\n",
      "class c2(c1, c3):\n",
      "    def oper2(self):\n",
      "        print \"oper2 in c2\"\n",
      "    def operations(self):\n",
      "        self.oper2()\n",
      "        self.oper1()\n",
      "        self.oper3()\n",
      "o2=c2()\n",
      "o2.operations()"
     ],
     "language": "python",
     "metadata": {},
     "outputs": [
      {
       "output_type": "stream",
       "stream": "stdout",
       "text": [
        "oper2 in c2\n",
        "oper1 in c1\n",
        "oper3 in c3\n"
       ]
      }
     ],
     "prompt_number": 44
    },
    {
     "cell_type": "code",
     "collapsed": false,
     "input": [
      "class c1:\n",
      "    def oper1(self):\n",
      "        print \"oper1 in c1\"\n",
      "    def oper3(self):\n",
      "        print \"oper3 in c1\"\n",
      "class c3:\n",
      "    def oper3(self):\n",
      "        print \"oper3 in c3\"\n",
      "class c2(c1, c3):\n",
      "    def oper2(self):\n",
      "        print \"oper2 in c2\"\n",
      "    def oper1(self):\n",
      "        print \"oper1 in c2\"\n",
      "        \n",
      "    def operations(self):\n",
      "        self.oper2()\n",
      "        self.oper1()\n",
      "        self.oper3()\n",
      "o2=c2()\n",
      "o2.operations()"
     ],
     "language": "python",
     "metadata": {},
     "outputs": [
      {
       "output_type": "stream",
       "stream": "stdout",
       "text": [
        "oper2 in c2\n",
        "oper1 in c2\n",
        "oper3 in c1\n"
       ]
      }
     ],
     "prompt_number": 46
    },
    {
     "cell_type": "code",
     "collapsed": false,
     "input": [
      "class c1:\n",
      "    def oper1(self):\n",
      "        print \"oper1 in c1\"\n",
      "    def oper3(self):\n",
      "        print \"oper3 in c1\"\n",
      "class c3:\n",
      "    def oper3(self):\n",
      "        print \"oper3 in c3\"\n",
      "class c2(c1, c3):\n",
      "    def oper2(self):\n",
      "        print \"oper2 in c2\"\n",
      "    def oper1(self):\n",
      "        print \"oper1 in c2\"\n",
      "        \n",
      "    def operations(self):\n",
      "        self.oper2()\n",
      "        self.oper1()\n",
      "        self.oper3()\n",
      "o2=c2()\n",
      "o2.operations()"
     ],
     "language": "python",
     "metadata": {},
     "outputs": [
      {
       "output_type": "stream",
       "stream": "stdout",
       "text": [
        "oper2 in c2\n",
        "oper1 in c2\n",
        "oper3 in c1\n"
       ]
      }
     ],
     "prompt_number": 47
    },
    {
     "cell_type": "code",
     "collapsed": false,
     "input": [
      "class Emp:\n",
      "    def __init__(self):\n",
      "        print \"this is constructor\"\n",
      "e1  = Emp()"
     ],
     "language": "python",
     "metadata": {},
     "outputs": [
      {
       "output_type": "stream",
       "stream": "stdout",
       "text": [
        "this is constructor\n"
       ]
      }
     ],
     "prompt_number": 48
    },
    {
     "cell_type": "code",
     "collapsed": false,
     "input": [
      "class Emp:\n",
      "    def __init__(self,**kwargs):\n",
      "        self.id=kwargs.get('id')\n",
      "        self.name = kwargs.get(\"name\")\n",
      "        self.age=kwargs.get(\"age\")\n",
      "e1  = Emp(id=1,name=\"e1\",age=23)\n",
      "e2 = Emp(id=2,name=\"e2\", age=24)"
     ],
     "language": "python",
     "metadata": {},
     "outputs": [],
     "prompt_number": 53
    },
    {
     "cell_type": "code",
     "collapsed": false,
     "input": [
      "class Emp:\n",
      "    def __init__(self,**kwargs):\n",
      "        self.id=kwargs.get('id')\n",
      "        self.name = kwargs.get(\"name\")\n",
      "        self.age=kwargs.get(\"age\")\n",
      "        \n",
      "    def get_emp(self):\n",
      "        return self.id,self.name,self.age\n",
      "e1  = Emp(id=1,name=\"e1\",age=23)\n",
      "e2 = Emp(id=2,name=\"e2\", age=24)\n",
      "print e1.get_emp()\n",
      "print e2.get_emp()"
     ],
     "language": "python",
     "metadata": {},
     "outputs": [
      {
       "output_type": "stream",
       "stream": "stdout",
       "text": [
        "(1, 'e1', 23)\n",
        "(2, 'e2', 24)\n"
       ]
      }
     ],
     "prompt_number": 50
    },
    {
     "cell_type": "code",
     "collapsed": false,
     "input": [
      "class Emp:\n",
      "    def __init__(self,**kwargs):\n",
      "        self.id=kwargs.get('id')\n",
      "        self.name = kwargs.get(\"name\")\n",
      "        self.age=kwargs.get(\"age\")\n",
      "e1  = Emp(id=1,name=\"e1\",age=23)\n",
      "e2 = Emp(id=2,name=\"e2\", age=24)"
     ],
     "language": "python",
     "metadata": {},
     "outputs": [],
     "prompt_number": 51
    },
    {
     "cell_type": "code",
     "collapsed": false,
     "input": [
      "class Emp:\n",
      "    def __init__(self,**kwargs):\n",
      "        self.id=kwargs.get('id')\n",
      "        self.name = kwargs.get(\"name\")\n",
      "        self.age=kwargs.get(\"age\")\n",
      "        return \"sfsfasfas\"\n",
      "e1  = Emp(id=1,name=\"e1\",age=23)\n",
      "e2 = Emp(id=2,name=\"e2\", age=24)"
     ],
     "language": "python",
     "metadata": {},
     "outputs": [
      {
       "ename": "TypeError",
       "evalue": "__init__() should return None",
       "output_type": "pyerr",
       "traceback": [
        "\u001b[0;31m---------------------------------------------------------------------------\u001b[0m\n\u001b[0;31mTypeError\u001b[0m                                 Traceback (most recent call last)",
        "\u001b[0;32m<ipython-input-52-e10654386e8a>\u001b[0m in \u001b[0;36m<module>\u001b[0;34m()\u001b[0m\n\u001b[1;32m      5\u001b[0m         \u001b[0mself\u001b[0m\u001b[0;34m.\u001b[0m\u001b[0mage\u001b[0m\u001b[0;34m=\u001b[0m\u001b[0mkwargs\u001b[0m\u001b[0;34m.\u001b[0m\u001b[0mget\u001b[0m\u001b[0;34m(\u001b[0m\u001b[0;34m\"age\"\u001b[0m\u001b[0;34m)\u001b[0m\u001b[0;34m\u001b[0m\u001b[0m\n\u001b[1;32m      6\u001b[0m         \u001b[0;32mreturn\u001b[0m \u001b[0;34m\"sfsfasfas\"\u001b[0m\u001b[0;34m\u001b[0m\u001b[0m\n\u001b[0;32m----> 7\u001b[0;31m \u001b[0me1\u001b[0m  \u001b[0;34m=\u001b[0m \u001b[0mEmp\u001b[0m\u001b[0;34m(\u001b[0m\u001b[0mid\u001b[0m\u001b[0;34m=\u001b[0m\u001b[0;36m1\u001b[0m\u001b[0;34m,\u001b[0m\u001b[0mname\u001b[0m\u001b[0;34m=\u001b[0m\u001b[0;34m\"e1\"\u001b[0m\u001b[0;34m,\u001b[0m\u001b[0mage\u001b[0m\u001b[0;34m=\u001b[0m\u001b[0;36m23\u001b[0m\u001b[0;34m)\u001b[0m\u001b[0;34m\u001b[0m\u001b[0m\n\u001b[0m\u001b[1;32m      8\u001b[0m \u001b[0me2\u001b[0m \u001b[0;34m=\u001b[0m \u001b[0mEmp\u001b[0m\u001b[0;34m(\u001b[0m\u001b[0mid\u001b[0m\u001b[0;34m=\u001b[0m\u001b[0;36m2\u001b[0m\u001b[0;34m,\u001b[0m\u001b[0mname\u001b[0m\u001b[0;34m=\u001b[0m\u001b[0;34m\"e2\"\u001b[0m\u001b[0;34m,\u001b[0m \u001b[0mage\u001b[0m\u001b[0;34m=\u001b[0m\u001b[0;36m24\u001b[0m\u001b[0;34m)\u001b[0m\u001b[0;34m\u001b[0m\u001b[0m\n",
        "\u001b[0;31mTypeError\u001b[0m: __init__() should return None"
       ]
      }
     ],
     "prompt_number": 52
    },
    {
     "cell_type": "code",
     "collapsed": false,
     "input": [
      "class c1:\n",
      "    def __init__(self):\n",
      "        print \"c1 constructor\"\n",
      "class c2(c1):\n",
      "    def __init__(self):\n",
      "        print \"c2 constructor\"\n",
      "o2 = c2()"
     ],
     "language": "python",
     "metadata": {},
     "outputs": [
      {
       "output_type": "stream",
       "stream": "stdout",
       "text": [
        "c2 constructor\n"
       ]
      }
     ],
     "prompt_number": 54
    },
    {
     "cell_type": "code",
     "collapsed": false,
     "input": [
      "class c1:\n",
      "    def __init__(self):\n",
      "        print \"c1 constructor\"\n",
      "class c2(c1):\n",
      "    pass\n",
      "o2 = c2()"
     ],
     "language": "python",
     "metadata": {},
     "outputs": [
      {
       "output_type": "stream",
       "stream": "stdout",
       "text": [
        "c1 constructor\n"
       ]
      }
     ],
     "prompt_number": 55
    },
    {
     "cell_type": "code",
     "collapsed": false,
     "input": [
      "class c1:\n",
      "    pass\n",
      "class c2(c1):\n",
      "    pass\n",
      "o2 = c2()"
     ],
     "language": "python",
     "metadata": {},
     "outputs": [],
     "prompt_number": 56
    },
    {
     "cell_type": "code",
     "collapsed": false,
     "input": [
      "class c1:\n",
      "    def __init__(self):\n",
      "        print \"c1\"\n",
      "class c2(c1):\n",
      "    def __init__(self):\n",
      "        print c2\n",
      "        self.__init__()\n",
      "o2 = c2()"
     ],
     "language": "python",
     "metadata": {},
     "outputs": []
    },
    {
     "cell_type": "code",
     "collapsed": false,
     "input": [
      "class c1:\n",
      "    def __init__(self):\n",
      "        print \"c1\"\n",
      "class c2(c1):\n",
      "    def __init__(self):\n",
      "        print c2\n",
      "        c1.__init__()\n",
      "o2 = c2()"
     ],
     "language": "python",
     "metadata": {},
     "outputs": [
      {
       "output_type": "stream",
       "stream": "stdout",
       "text": [
        "__main__.c2\n"
       ]
      },
      {
       "ename": "TypeError",
       "evalue": "unbound method __init__() must be called with c1 instance as first argument (got nothing instead)",
       "output_type": "pyerr",
       "traceback": [
        "\u001b[0;31m---------------------------------------------------------------------------\u001b[0m\n\u001b[0;31mTypeError\u001b[0m                                 Traceback (most recent call last)",
        "\u001b[0;32m<ipython-input-57-80b559eef229>\u001b[0m in \u001b[0;36m<module>\u001b[0;34m()\u001b[0m\n\u001b[1;32m      6\u001b[0m         \u001b[0;32mprint\u001b[0m \u001b[0mc2\u001b[0m\u001b[0;34m\u001b[0m\u001b[0m\n\u001b[1;32m      7\u001b[0m         \u001b[0mc1\u001b[0m\u001b[0;34m.\u001b[0m\u001b[0m__init__\u001b[0m\u001b[0;34m(\u001b[0m\u001b[0;34m)\u001b[0m\u001b[0;34m\u001b[0m\u001b[0m\n\u001b[0;32m----> 8\u001b[0;31m \u001b[0mo2\u001b[0m \u001b[0;34m=\u001b[0m \u001b[0mc2\u001b[0m\u001b[0;34m(\u001b[0m\u001b[0;34m)\u001b[0m\u001b[0;34m\u001b[0m\u001b[0m\n\u001b[0m",
        "\u001b[0;32m<ipython-input-57-80b559eef229>\u001b[0m in \u001b[0;36m__init__\u001b[0;34m(self)\u001b[0m\n\u001b[1;32m      5\u001b[0m     \u001b[0;32mdef\u001b[0m \u001b[0m__init__\u001b[0m\u001b[0;34m(\u001b[0m\u001b[0mself\u001b[0m\u001b[0;34m)\u001b[0m\u001b[0;34m:\u001b[0m\u001b[0;34m\u001b[0m\u001b[0m\n\u001b[1;32m      6\u001b[0m         \u001b[0;32mprint\u001b[0m \u001b[0mc2\u001b[0m\u001b[0;34m\u001b[0m\u001b[0m\n\u001b[0;32m----> 7\u001b[0;31m         \u001b[0mc1\u001b[0m\u001b[0;34m.\u001b[0m\u001b[0m__init__\u001b[0m\u001b[0;34m(\u001b[0m\u001b[0;34m)\u001b[0m\u001b[0;34m\u001b[0m\u001b[0m\n\u001b[0m\u001b[1;32m      8\u001b[0m \u001b[0mo2\u001b[0m \u001b[0;34m=\u001b[0m \u001b[0mc2\u001b[0m\u001b[0;34m(\u001b[0m\u001b[0;34m)\u001b[0m\u001b[0;34m\u001b[0m\u001b[0m\n",
        "\u001b[0;31mTypeError\u001b[0m: unbound method __init__() must be called with c1 instance as first argument (got nothing instead)"
       ]
      }
     ],
     "prompt_number": 57
    },
    {
     "cell_type": "code",
     "collapsed": false,
     "input": [
      "# \n",
      "class c1:\n",
      "    def __init__(self):\n",
      "        print \"c1\"\n",
      "class c2(c1):\n",
      "    def __init__(self):\n",
      "        print c2\n",
      "        c1.__init__(self)\n",
      "o2 = c2()"
     ],
     "language": "python",
     "metadata": {},
     "outputs": [
      {
       "output_type": "stream",
       "stream": "stdout",
       "text": [
        "__main__.c2\n",
        "c1\n"
       ]
      }
     ],
     "prompt_number": 58
    },
    {
     "cell_type": "code",
     "collapsed": false,
     "input": [
      "class c1:\n",
      "    def oper1(self):\n",
      "        print \"afdsfdsfsdfsdf\"\n",
      "o1=c1()\n",
      "c1.oper1()"
     ],
     "language": "python",
     "metadata": {},
     "outputs": [
      {
       "ename": "TypeError",
       "evalue": "unbound method oper1() must be called with c1 instance as first argument (got nothing instead)",
       "output_type": "pyerr",
       "traceback": [
        "\u001b[0;31m---------------------------------------------------------------------------\u001b[0m\n\u001b[0;31mTypeError\u001b[0m                                 Traceback (most recent call last)",
        "\u001b[0;32m<ipython-input-59-1571f223cc20>\u001b[0m in \u001b[0;36m<module>\u001b[0;34m()\u001b[0m\n\u001b[1;32m      3\u001b[0m         \u001b[0;32mprint\u001b[0m \u001b[0;34m\"afdsfdsfsdfsdf\"\u001b[0m\u001b[0;34m\u001b[0m\u001b[0m\n\u001b[1;32m      4\u001b[0m \u001b[0mo1\u001b[0m\u001b[0;34m=\u001b[0m\u001b[0mc1\u001b[0m\u001b[0;34m(\u001b[0m\u001b[0;34m)\u001b[0m\u001b[0;34m\u001b[0m\u001b[0m\n\u001b[0;32m----> 5\u001b[0;31m \u001b[0mc1\u001b[0m\u001b[0;34m.\u001b[0m\u001b[0moper1\u001b[0m\u001b[0;34m(\u001b[0m\u001b[0;34m)\u001b[0m\u001b[0;34m\u001b[0m\u001b[0m\n\u001b[0m",
        "\u001b[0;31mTypeError\u001b[0m: unbound method oper1() must be called with c1 instance as first argument (got nothing instead)"
       ]
      }
     ],
     "prompt_number": 59
    },
    {
     "cell_type": "code",
     "collapsed": false,
     "input": [
      "class c1:\n",
      "    def oper1(self):\n",
      "        print \"afdsfdsfsdfsdf\"\n",
      "o1=c1()\n",
      "c1.oper1(o1)"
     ],
     "language": "python",
     "metadata": {},
     "outputs": [
      {
       "output_type": "stream",
       "stream": "stdout",
       "text": [
        "afdsfdsfsdfsdf\n"
       ]
      }
     ],
     "prompt_number": 60
    },
    {
     "cell_type": "code",
     "collapsed": false,
     "input": [
      "class c1:\n",
      "    def oper1(self):\n",
      "        print \"afdsfdsfsdfsdf\"\n",
      "o1=c1()\n",
      "o1.oper1()"
     ],
     "language": "python",
     "metadata": {},
     "outputs": [
      {
       "output_type": "stream",
       "stream": "stdout",
       "text": [
        "afdsfdsfsdfsdf\n"
       ]
      }
     ],
     "prompt_number": 61
    },
    {
     "cell_type": "code",
     "collapsed": false,
     "input": [],
     "language": "python",
     "metadata": {},
     "outputs": []
    }
   ],
   "metadata": {}
  }
 ]
}