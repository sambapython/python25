{
 "cells": [
  {
   "cell_type": "code",
   "execution_count": 1,
   "metadata": {
    "collapsed": false
   },
   "outputs": [
    {
     "name": "stdout",
     "output_type": "stream",
     "text": [
      "program started\n",
      "12>34 is false\n",
      "other statements in program\n",
      "program ended\n"
     ]
    }
   ],
   "source": [
    "# if, if else, if else if,\n",
    "'''\n",
    "if condition:\n",
    "    if statments\n",
    "else:\n",
    "    else statements\n",
    "'''\n",
    "print \"program started\"\n",
    "if 12>34:\n",
    "    print \"12>34 is true\"\n",
    "else:\n",
    "    print \"12>34 is false\"\n",
    "print \"other statements in program\"\n",
    "print \"program ended\"\n"
   ]
  },
  {
   "cell_type": "code",
   "execution_count": 2,
   "metadata": {
    "collapsed": false
   },
   "outputs": [
    {
     "name": "stdout",
     "output_type": "stream",
     "text": [
      "program started\n",
      "12<34 is true\n",
      "other statements in program\n",
      "program ended\n"
     ]
    }
   ],
   "source": [
    "# if, if else, if else if,\n",
    "'''\n",
    "if condition:\n",
    "    if statments\n",
    "else:\n",
    "    else statements\n",
    "'''\n",
    "print \"program started\"\n",
    "if 12<34:\n",
    "    print \"12<34 is true\"\n",
    "else:\n",
    "    print \"12<34 is false\"\n",
    "print \"other statements in program\"\n",
    "print \"program ended\"\n"
   ]
  },
  {
   "cell_type": "code",
   "execution_count": 3,
   "metadata": {
    "collapsed": false
   },
   "outputs": [
    {
     "name": "stdout",
     "output_type": "stream",
     "text": [
      "program started\n",
      "12<34 is true\n",
      "other statements in program\n",
      "program ended\n"
     ]
    }
   ],
   "source": [
    "print \"program started\"\n",
    "if 12<34:\n",
    "    print \"12<34 is true\"\n",
    "print \"other statements in program\"\n",
    "print \"program ended\""
   ]
  },
  {
   "cell_type": "code",
   "execution_count": 6,
   "metadata": {
    "collapsed": false
   },
   "outputs": [
    {
     "name": "stdout",
     "output_type": "stream",
     "text": [
      "program started\n",
      "other statements in program\n",
      "program ended\n"
     ]
    }
   ],
   "source": [
    "print \"program started\"\n",
    "if 12>34:\n",
    "    print \"12>34 is true\"\n",
    "print \"other statements in program\"\n",
    "print \"program ended\""
   ]
  },
  {
   "cell_type": "code",
   "execution_count": 7,
   "metadata": {
    "collapsed": false
   },
   "outputs": [
    {
     "name": "stdout",
     "output_type": "stream",
     "text": [
      "program started\n",
      "if block started\n",
      "12<34 is true\n",
      "if block ended\n",
      "other statements in program\n",
      "program ended\n"
     ]
    }
   ],
   "source": [
    "print \"program started\"\n",
    "if 12<34:\n",
    "    print \"if block started\"\n",
    "    print \"12<34 is true\"\n",
    "    print \"if block ended\"\n",
    "print \"other statements in program\"\n",
    "print \"program ended\""
   ]
  },
  {
   "cell_type": "code",
   "execution_count": 8,
   "metadata": {
    "collapsed": false
   },
   "outputs": [
    {
     "name": "stdout",
     "output_type": "stream",
     "text": [
      "program started\n",
      "other statements in program\n",
      "program ended\n"
     ]
    }
   ],
   "source": [
    "print \"program started\"\n",
    "if 12>34:\n",
    "    print \"if block started\"\n",
    "    print \"12>34 is true\"\n",
    "    print \"if block ended\"\n",
    "print \"other statements in program\"\n",
    "print \"program ended\""
   ]
  },
  {
   "cell_type": "code",
   "execution_count": 9,
   "metadata": {
    "collapsed": false
   },
   "outputs": [
    {
     "name": "stdout",
     "output_type": "stream",
     "text": [
      "b is big\n"
     ]
    }
   ],
   "source": [
    "a=10\n",
    "b=20\n",
    "if a>b:\n",
    "    print \"a is big\"\n",
    "else:\n",
    "    print \"b is big\""
   ]
  },
  {
   "cell_type": "code",
   "execution_count": 11,
   "metadata": {
    "collapsed": false
   },
   "outputs": [
    {
     "name": "stdout",
     "output_type": "stream",
     "text": [
      "90\n"
     ]
    }
   ],
   "source": [
    "'''\n",
    "Operating Systems:\n",
    "1. Windows\n",
    "2. Linux\n",
    "3. Mac\n",
    "'''\n",
    "res = \"Opearating Systems:\\n\\\n",
    "1. Windows\\n\\\n",
    "2. Linux\\n\\\n",
    "3.Mac\"\n",
    "print len(res)"
   ]
  },
  {
   "cell_type": "code",
   "execution_count": 12,
   "metadata": {
    "collapsed": true
   },
   "outputs": [],
   "source": [
    "# pep8 error check\n",
    "a=10;b=20"
   ]
  },
  {
   "cell_type": "code",
   "execution_count": 13,
   "metadata": {
    "collapsed": false
   },
   "outputs": [
    {
     "data": {
      "text/plain": [
       "10"
      ]
     },
     "execution_count": 13,
     "metadata": {},
     "output_type": "execute_result"
    }
   ],
   "source": [
    "a"
   ]
  },
  {
   "cell_type": "code",
   "execution_count": 14,
   "metadata": {
    "collapsed": false
   },
   "outputs": [
    {
     "data": {
      "text/plain": [
       "20"
      ]
     },
     "execution_count": 14,
     "metadata": {},
     "output_type": "execute_result"
    }
   ],
   "source": [
    "b"
   ]
  },
  {
   "cell_type": "code",
   "execution_count": 16,
   "metadata": {
    "collapsed": false
   },
   "outputs": [
    {
     "name": "stdout",
     "output_type": "stream",
     "text": [
      "Opearating Systems:\n",
      "1. Windows\n",
      "2. Linux\n",
      "3.Mac\n"
     ]
    }
   ],
   "source": [
    "'''\n",
    "Operating Systems:\n",
    "1. Windows\n",
    "2. Linux\n",
    "3. Mac\n",
    "'''\n",
    "res = \"Opearating Systems:\\n\\\n",
    "1. Windows\\n\\\n",
    "2. Linux\\n\\\n",
    "3.Mac\"\n",
    "print res"
   ]
  },
  {
   "cell_type": "code",
   "execution_count": 17,
   "metadata": {
    "collapsed": false
   },
   "outputs": [
    {
     "name": "stdout",
     "output_type": "stream",
     "text": [
      "Opearating Systems:\n",
      "1. Windows\n",
      "2. Linux\n",
      "3.Mac\n",
      "Select operating System:1\n"
     ]
    }
   ],
   "source": [
    "res = \"Opearating Systems:\\n\\\n",
    "1. Windows\\n\\\n",
    "2. Linux\\n\\\n",
    "3.Mac\"\n",
    "print res\n",
    "opt = raw_input(\"Select operating System:\")\n"
   ]
  },
  {
   "cell_type": "code",
   "execution_count": 18,
   "metadata": {
    "collapsed": false
   },
   "outputs": [
    {
     "data": {
      "text/plain": [
       "'1'"
      ]
     },
     "execution_count": 18,
     "metadata": {},
     "output_type": "execute_result"
    }
   ],
   "source": [
    "opt"
   ]
  },
  {
   "cell_type": "code",
   "execution_count": 19,
   "metadata": {
    "collapsed": false
   },
   "outputs": [
    {
     "data": {
      "text/plain": [
       "str"
      ]
     },
     "execution_count": 19,
     "metadata": {},
     "output_type": "execute_result"
    }
   ],
   "source": [
    "type(opt)"
   ]
  },
  {
   "cell_type": "code",
   "execution_count": 20,
   "metadata": {
    "collapsed": false
   },
   "outputs": [
    {
     "data": {
      "text/plain": [
       "False"
      ]
     },
     "execution_count": 20,
     "metadata": {},
     "output_type": "execute_result"
    }
   ],
   "source": [
    "\"1\"==1"
   ]
  },
  {
   "cell_type": "code",
   "execution_count": 22,
   "metadata": {
    "collapsed": false
   },
   "outputs": [
    {
     "name": "stdout",
     "output_type": "stream",
     "text": [
      "\n",
      "Opearating Systems:\n",
      "1. Windows\n",
      "2. Linux\n",
      "3.Mac\n",
      "Select operating System:1\n",
      "Windows selected\n",
      "other statements in program\n",
      "program ended\n"
     ]
    }
   ],
   "source": [
    "res = \"Opearating Systems:\\n\\\n",
    "1. Windows\\n\\\n",
    "2. Linux\\n\\\n",
    "3.Mac\"\n",
    "print \"\"\n",
    "print res\n",
    "opt = raw_input(\"Select operating System:\")\n",
    "if opt==\"1\":\n",
    "    print \"Windows selected\"\n",
    "if opt==\"2\":\n",
    "    print \"Linux selected\"\n",
    "if opt==\"3\":\n",
    "    print \"Mac selected\"\n",
    "print \"other statements in program\"\n",
    "print \"program ended\""
   ]
  },
  {
   "cell_type": "code",
   "execution_count": 24,
   "metadata": {
    "collapsed": false
   },
   "outputs": [
    {
     "name": "stdout",
     "output_type": "stream",
     "text": [
      "\n",
      "Opearating Systems:\n",
      "1. Windows\n",
      "2. Linux\n",
      "3.Mac\n",
      "Select operating System:2\n",
      "Linux selected\n",
      "other statements in program\n",
      "program ended\n"
     ]
    }
   ],
   "source": [
    "res = \"Opearating Systems:\\n\\\n",
    "1. Windows\\n\\\n",
    "2. Linux\\n\\\n",
    "3.Mac\"\n",
    "print \"\"\n",
    "print res\n",
    "opt = raw_input(\"Select operating System:\")\n",
    "if opt==\"1\":\n",
    "    print \"Windows selected\"\n",
    "if opt==\"2\":\n",
    "    print \"Linux selected\"\n",
    "if opt==\"3\":\n",
    "    print \"Mac selected\"\n",
    "print \"other statements in program\"\n",
    "print \"program ended\""
   ]
  },
  {
   "cell_type": "code",
   "execution_count": 25,
   "metadata": {
    "collapsed": false
   },
   "outputs": [
    {
     "name": "stdout",
     "output_type": "stream",
     "text": [
      "\n",
      "Opearating Systems:\n",
      "1. Windows\n",
      "2. Linux\n",
      "3.Mac\n",
      "Select operating System:3\n",
      "Mac selected\n",
      "other statements in program\n",
      "program ended\n"
     ]
    }
   ],
   "source": [
    "res = \"Opearating Systems:\\n\\\n",
    "1. Windows\\n\\\n",
    "2. Linux\\n\\\n",
    "3.Mac\"\n",
    "print \"\"\n",
    "print res\n",
    "opt = raw_input(\"Select operating System:\")\n",
    "if opt==\"1\":\n",
    "    print \"Windows selected\"\n",
    "if opt==\"2\":\n",
    "    print \"Linux selected\"\n",
    "if opt==\"3\":\n",
    "    print \"Mac selected\"\n",
    "print \"other statements in program\"\n",
    "print \"program ended\""
   ]
  },
  {
   "cell_type": "code",
   "execution_count": 26,
   "metadata": {
    "collapsed": false
   },
   "outputs": [
    {
     "name": "stdout",
     "output_type": "stream",
     "text": [
      "\n",
      "Opearating Systems:\n",
      "1. Windows\n",
      "2. Linux\n",
      "3.Mac\n",
      "Select operating System:2\n",
      "Linux selected\n",
      "other statements in program\n",
      "program ended\n"
     ]
    }
   ],
   "source": [
    "res = \"Opearating Systems:\\n\\\n",
    "1. Windows\\n\\\n",
    "2. Linux\\n\\\n",
    "3.Mac\"\n",
    "print \"\"\n",
    "print res\n",
    "opt = raw_input(\"Select operating System:\")\n",
    "if opt==\"1\":\n",
    "    print \"Windows selected\"\n",
    "if opt==\"2\":\n",
    "    print \"Linux selected\"\n",
    "if opt==\"3\":\n",
    "    print \"Mac selected\"\n",
    "print \"other statements in program\"\n",
    "print \"program ended\""
   ]
  },
  {
   "cell_type": "code",
   "execution_count": 27,
   "metadata": {
    "collapsed": false
   },
   "outputs": [
    {
     "name": "stdout",
     "output_type": "stream",
     "text": [
      "\n",
      "Opearating Systems:\n",
      "1. Windows\n",
      "2. Linux\n",
      "3.Mac\n",
      "Select operating System:4\n",
      "other statements in program\n",
      "program ended\n"
     ]
    }
   ],
   "source": [
    "res = \"Opearating Systems:\\n\\\n",
    "1. Windows\\n\\\n",
    "2. Linux\\n\\\n",
    "3.Mac\"\n",
    "print \"\"\n",
    "print res\n",
    "opt = raw_input(\"Select operating System:\")\n",
    "if opt==\"1\":\n",
    "    print \"Windows selected\"\n",
    "if opt==\"2\":\n",
    "    print \"Linux selected\"\n",
    "if opt==\"3\":\n",
    "    print \"Mac selected\"\n",
    "print \"other statements in program\"\n",
    "print \"program ended\""
   ]
  },
  {
   "cell_type": "code",
   "execution_count": 28,
   "metadata": {
    "collapsed": false
   },
   "outputs": [
    {
     "name": "stdout",
     "output_type": "stream",
     "text": [
      "\n",
      "Opearating Systems:\n",
      "1. Windows\n",
      "2. Linux\n",
      "3.Mac\n",
      "Select operating System:4\n",
      "wrong option\n",
      "other statements in program\n",
      "program ended\n"
     ]
    }
   ],
   "source": [
    "res = \"Opearating Systems:\\n\\\n",
    "1. Windows\\n\\\n",
    "2. Linux\\n\\\n",
    "3.Mac\"\n",
    "print \"\"\n",
    "print res\n",
    "opt = raw_input(\"Select operating System:\")\n",
    "if opt==\"1\":\n",
    "    print \"Windows selected\"\n",
    "if opt==\"2\":\n",
    "    print \"Linux selected\"\n",
    "if opt==\"3\":\n",
    "    print \"Mac selected\"\n",
    "else:\n",
    "    print \"wrong option\"\n",
    "print \"other statements in program\"\n",
    "print \"program ended\""
   ]
  },
  {
   "cell_type": "code",
   "execution_count": 29,
   "metadata": {
    "collapsed": false
   },
   "outputs": [
    {
     "name": "stdout",
     "output_type": "stream",
     "text": [
      "\n",
      "Opearating Systems:\n",
      "1. Windows\n",
      "2. Linux\n",
      "3.Mac\n",
      "Select operating System:2\n",
      "Linux selected\n",
      "wrong option\n",
      "other statements in program\n",
      "program ended\n"
     ]
    }
   ],
   "source": [
    "res = \"Opearating Systems:\\n\\\n",
    "1. Windows\\n\\\n",
    "2. Linux\\n\\\n",
    "3.Mac\"\n",
    "print \"\"\n",
    "print res\n",
    "opt = raw_input(\"Select operating System:\")\n",
    "if opt==\"1\":\n",
    "    print \"Windows selected\"\n",
    "if opt==\"2\":\n",
    "    print \"Linux selected\"\n",
    "if opt==\"3\":\n",
    "    print \"Mac selected\"\n",
    "else:\n",
    "    print \"wrong option\"\n",
    "print \"other statements in program\"\n",
    "print \"program ended\""
   ]
  },
  {
   "cell_type": "code",
   "execution_count": 30,
   "metadata": {
    "collapsed": false
   },
   "outputs": [
    {
     "name": "stdout",
     "output_type": "stream",
     "text": [
      "\n",
      "Opearating Systems:\n",
      "1. Windows\n",
      "2. Linux\n",
      "3.Mac\n",
      "Select operating System:2\n",
      "Linux selected\n",
      "other statements in program\n",
      "program ended\n"
     ]
    }
   ],
   "source": [
    "res = \"Opearating Systems:\\n\\\n",
    "1. Windows\\n\\\n",
    "2. Linux\\n\\\n",
    "3.Mac\"\n",
    "print \"\"\n",
    "print res\n",
    "opt = raw_input(\"Select operating System:\")\n",
    "if opt==\"1\":\n",
    "    print \"Windows selected\"\n",
    "elif opt==\"2\":\n",
    "    print \"Linux selected\"\n",
    "elif opt==\"3\":\n",
    "    print \"Mac selected\"\n",
    "else:\n",
    "    print \"wrong option\"\n",
    "print \"other statements in program\"\n",
    "print \"program ended\""
   ]
  },
  {
   "cell_type": "code",
   "execution_count": 32,
   "metadata": {
    "collapsed": false
   },
   "outputs": [
    {
     "name": "stdout",
     "output_type": "stream",
     "text": [
      "\n",
      "Opearating Systems:\n",
      "1. Windows\n",
      "2. Linux\n",
      "3.Mac\n",
      "Select operating System:4\n",
      "wrong option\n",
      "other statements in program\n",
      "program ended\n"
     ]
    }
   ],
   "source": [
    "res = \"Opearating Systems:\\n\\\n",
    "1. Windows\\n\\\n",
    "2. Linux\\n\\\n",
    "3.Mac\"\n",
    "print \"\"\n",
    "print res\n",
    "opt = raw_input(\"Select operating System:\")\n",
    "if opt==\"1\":\n",
    "    print \"Windows selected\"\n",
    "elif opt==\"2\":\n",
    "    print \"Linux selected\"\n",
    "elif opt==\"3\":\n",
    "    print \"Mac selected\"\n",
    "else:\n",
    "    print \"wrong option\"\n",
    "print \"other statements in program\"\n",
    "print \"program ended\""
   ]
  },
  {
   "cell_type": "code",
   "execution_count": 33,
   "metadata": {
    "collapsed": false
   },
   "outputs": [
    {
     "name": "stdout",
     "output_type": "stream",
     "text": [
      "\n",
      "Opearating Systems:\n",
      "1. Windows\n",
      "2. Linux\n",
      "3.Mac\n",
      "Select operating System:2\n",
      "Linux selected\n",
      "other statements in program\n",
      "program ended\n"
     ]
    }
   ],
   "source": [
    "res = \"Opearating Systems:\\n\\\n",
    "1. Windows\\n\\\n",
    "2. Linux\\n\\\n",
    "3.Mac\"\n",
    "print \"\"\n",
    "print res\n",
    "opt = raw_input(\"Select operating System:\")\n",
    "if opt==\"1\":\n",
    "    print \"Windows selected\"\n",
    "elif opt==\"2\":\n",
    "    print \"Linux selected\"\n",
    "elif opt==\"3\":\n",
    "    print \"Mac selected\"\n",
    "else:\n",
    "    print \"wrong option\"\n",
    "print \"other statements in program\"\n",
    "print \"program ended\""
   ]
  },
  {
   "cell_type": "code",
   "execution_count": 34,
   "metadata": {
    "collapsed": false
   },
   "outputs": [
    {
     "name": "stdout",
     "output_type": "stream",
     "text": [
      "\n",
      "Opearating Systems:\n",
      "1. Windows\n",
      "2. Linux\n",
      "3.Mac\n",
      "Select operating System:3\n",
      "Mac selected\n",
      "other statements in program\n",
      "program ended\n"
     ]
    }
   ],
   "source": [
    "res = \"Opearating Systems:\\n\\\n",
    "1. Windows\\n\\\n",
    "2. Linux\\n\\\n",
    "3.Mac\"\n",
    "print \"\"\n",
    "print res\n",
    "opt = raw_input(\"Select operating System:\")\n",
    "if opt==\"1\":\n",
    "    print \"Windows selected\"\n",
    "elif opt==\"2\":\n",
    "    print \"Linux selected\"\n",
    "elif opt==\"3\":\n",
    "    print \"Mac selected\"\n",
    "else:\n",
    "    print \"wrong option\"\n",
    "print \"other statements in program\"\n",
    "print \"program ended\""
   ]
  },
  {
   "cell_type": "code",
   "execution_count": 35,
   "metadata": {
    "collapsed": false
   },
   "outputs": [
    {
     "name": "stdout",
     "output_type": "stream",
     "text": [
      "\n",
      "Opearating Systems:\n",
      "1. Windows\n",
      "2. Linux\n",
      "3.Mac\n",
      "Select operating System:6\n",
      "wrong option\n",
      "other statements in program\n",
      "program ended\n"
     ]
    }
   ],
   "source": [
    "res = \"Opearating Systems:\\n\\\n",
    "1. Windows\\n\\\n",
    "2. Linux\\n\\\n",
    "3.Mac\"\n",
    "print \"\"\n",
    "print res\n",
    "opt = raw_input(\"Select operating System:\")\n",
    "if opt==\"1\":\n",
    "    print \"Windows selected\"\n",
    "elif opt==\"2\":\n",
    "    print \"Linux selected\"\n",
    "elif opt==\"3\":\n",
    "    print \"Mac selected\"\n",
    "else:\n",
    "    print \"wrong option\"\n",
    "print \"other statements in program\"\n",
    "print \"program ended\""
   ]
  },
  {
   "cell_type": "code",
   "execution_count": null,
   "metadata": {
    "collapsed": true
   },
   "outputs": [],
   "source": []
  }
 ],
 "metadata": {
  "kernelspec": {
   "display_name": "Python 2",
   "language": "python",
   "name": "python2"
  },
  "language_info": {
   "codemirror_mode": {
    "name": "ipython",
    "version": 2
   },
   "file_extension": ".py",
   "mimetype": "text/x-python",
   "name": "python",
   "nbconvert_exporter": "python",
   "pygments_lexer": "ipython2",
   "version": "2.7.11"
  }
 },
 "nbformat": 4,
 "nbformat_minor": 0
}
